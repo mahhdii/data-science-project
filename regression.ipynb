{
 "cells": [
  {
   "cell_type": "code",
   "execution_count": 4,
   "metadata": {},
   "outputs": [],
   "source": [
    "import pandas as pd\n",
    "import numpy as np\n",
    "import matplotlib.pyplot as plt\n",
    "import seaborn as sns"
   ]
  },
  {
   "cell_type": "code",
   "execution_count": 5,
   "metadata": {},
   "outputs": [
    {
     "data": {
      "text/html": [
       "<div>\n",
       "<style scoped>\n",
       "    .dataframe tbody tr th:only-of-type {\n",
       "        vertical-align: middle;\n",
       "    }\n",
       "\n",
       "    .dataframe tbody tr th {\n",
       "        vertical-align: top;\n",
       "    }\n",
       "\n",
       "    .dataframe thead th {\n",
       "        text-align: right;\n",
       "    }\n",
       "</style>\n",
       "<table border=\"1\" class=\"dataframe\">\n",
       "  <thead>\n",
       "    <tr style=\"text-align: right;\">\n",
       "      <th></th>\n",
       "      <th>date</th>\n",
       "      <th>Appliances</th>\n",
       "      <th>lights</th>\n",
       "      <th>T1</th>\n",
       "      <th>RH_1</th>\n",
       "      <th>T2</th>\n",
       "      <th>RH_2</th>\n",
       "      <th>T3</th>\n",
       "      <th>RH_3</th>\n",
       "      <th>T4</th>\n",
       "      <th>...</th>\n",
       "      <th>T9</th>\n",
       "      <th>RH_9</th>\n",
       "      <th>T_out</th>\n",
       "      <th>Press_mm_hg</th>\n",
       "      <th>RH_out</th>\n",
       "      <th>Windspeed</th>\n",
       "      <th>Visibility</th>\n",
       "      <th>Tdewpoint</th>\n",
       "      <th>rv1</th>\n",
       "      <th>rv2</th>\n",
       "    </tr>\n",
       "  </thead>\n",
       "  <tbody>\n",
       "    <tr>\n",
       "      <th>0</th>\n",
       "      <td>2016-01-11 17:00:00</td>\n",
       "      <td>60</td>\n",
       "      <td>30</td>\n",
       "      <td>19.890000</td>\n",
       "      <td>47.596667</td>\n",
       "      <td>19.20</td>\n",
       "      <td>44.790000</td>\n",
       "      <td>19.79</td>\n",
       "      <td>44.730000</td>\n",
       "      <td>19.000000</td>\n",
       "      <td>...</td>\n",
       "      <td>17.033333</td>\n",
       "      <td>45.53</td>\n",
       "      <td>6.600000</td>\n",
       "      <td>733.500000</td>\n",
       "      <td>92.000000</td>\n",
       "      <td>7.000000</td>\n",
       "      <td>63.000000</td>\n",
       "      <td>5.300000</td>\n",
       "      <td>13.275433</td>\n",
       "      <td>13.275433</td>\n",
       "    </tr>\n",
       "    <tr>\n",
       "      <th>1</th>\n",
       "      <td>2016-01-11 17:10:00</td>\n",
       "      <td>60</td>\n",
       "      <td>30</td>\n",
       "      <td>19.890000</td>\n",
       "      <td>46.693333</td>\n",
       "      <td>19.20</td>\n",
       "      <td>44.722500</td>\n",
       "      <td>19.79</td>\n",
       "      <td>44.790000</td>\n",
       "      <td>19.000000</td>\n",
       "      <td>...</td>\n",
       "      <td>17.066667</td>\n",
       "      <td>45.56</td>\n",
       "      <td>6.483333</td>\n",
       "      <td>733.600000</td>\n",
       "      <td>92.000000</td>\n",
       "      <td>6.666667</td>\n",
       "      <td>59.166667</td>\n",
       "      <td>5.200000</td>\n",
       "      <td>18.606195</td>\n",
       "      <td>18.606195</td>\n",
       "    </tr>\n",
       "    <tr>\n",
       "      <th>2</th>\n",
       "      <td>2016-01-11 17:20:00</td>\n",
       "      <td>50</td>\n",
       "      <td>30</td>\n",
       "      <td>19.890000</td>\n",
       "      <td>46.300000</td>\n",
       "      <td>19.20</td>\n",
       "      <td>44.626667</td>\n",
       "      <td>19.79</td>\n",
       "      <td>44.933333</td>\n",
       "      <td>18.926667</td>\n",
       "      <td>...</td>\n",
       "      <td>17.000000</td>\n",
       "      <td>45.50</td>\n",
       "      <td>6.366667</td>\n",
       "      <td>733.700000</td>\n",
       "      <td>92.000000</td>\n",
       "      <td>6.333333</td>\n",
       "      <td>55.333333</td>\n",
       "      <td>5.100000</td>\n",
       "      <td>28.642668</td>\n",
       "      <td>28.642668</td>\n",
       "    </tr>\n",
       "    <tr>\n",
       "      <th>3</th>\n",
       "      <td>2016-01-11 17:30:00</td>\n",
       "      <td>50</td>\n",
       "      <td>40</td>\n",
       "      <td>19.890000</td>\n",
       "      <td>46.066667</td>\n",
       "      <td>19.20</td>\n",
       "      <td>44.590000</td>\n",
       "      <td>19.79</td>\n",
       "      <td>45.000000</td>\n",
       "      <td>18.890000</td>\n",
       "      <td>...</td>\n",
       "      <td>17.000000</td>\n",
       "      <td>45.40</td>\n",
       "      <td>6.250000</td>\n",
       "      <td>733.800000</td>\n",
       "      <td>92.000000</td>\n",
       "      <td>6.000000</td>\n",
       "      <td>51.500000</td>\n",
       "      <td>5.000000</td>\n",
       "      <td>45.410389</td>\n",
       "      <td>45.410389</td>\n",
       "    </tr>\n",
       "    <tr>\n",
       "      <th>4</th>\n",
       "      <td>2016-01-11 17:40:00</td>\n",
       "      <td>60</td>\n",
       "      <td>40</td>\n",
       "      <td>19.890000</td>\n",
       "      <td>46.333333</td>\n",
       "      <td>19.20</td>\n",
       "      <td>44.530000</td>\n",
       "      <td>19.79</td>\n",
       "      <td>45.000000</td>\n",
       "      <td>18.890000</td>\n",
       "      <td>...</td>\n",
       "      <td>17.000000</td>\n",
       "      <td>45.40</td>\n",
       "      <td>6.133333</td>\n",
       "      <td>733.900000</td>\n",
       "      <td>92.000000</td>\n",
       "      <td>5.666667</td>\n",
       "      <td>47.666667</td>\n",
       "      <td>4.900000</td>\n",
       "      <td>10.084097</td>\n",
       "      <td>10.084097</td>\n",
       "    </tr>\n",
       "    <tr>\n",
       "      <th>5</th>\n",
       "      <td>2016-01-11 17:50:00</td>\n",
       "      <td>50</td>\n",
       "      <td>40</td>\n",
       "      <td>19.890000</td>\n",
       "      <td>46.026667</td>\n",
       "      <td>19.20</td>\n",
       "      <td>44.500000</td>\n",
       "      <td>19.79</td>\n",
       "      <td>44.933333</td>\n",
       "      <td>18.890000</td>\n",
       "      <td>...</td>\n",
       "      <td>17.000000</td>\n",
       "      <td>45.29</td>\n",
       "      <td>6.016667</td>\n",
       "      <td>734.000000</td>\n",
       "      <td>92.000000</td>\n",
       "      <td>5.333333</td>\n",
       "      <td>43.833333</td>\n",
       "      <td>4.800000</td>\n",
       "      <td>44.919484</td>\n",
       "      <td>44.919484</td>\n",
       "    </tr>\n",
       "    <tr>\n",
       "      <th>6</th>\n",
       "      <td>2016-01-11 18:00:00</td>\n",
       "      <td>60</td>\n",
       "      <td>50</td>\n",
       "      <td>19.890000</td>\n",
       "      <td>45.766667</td>\n",
       "      <td>19.20</td>\n",
       "      <td>44.500000</td>\n",
       "      <td>19.79</td>\n",
       "      <td>44.900000</td>\n",
       "      <td>18.890000</td>\n",
       "      <td>...</td>\n",
       "      <td>17.000000</td>\n",
       "      <td>45.29</td>\n",
       "      <td>5.900000</td>\n",
       "      <td>734.100000</td>\n",
       "      <td>92.000000</td>\n",
       "      <td>5.000000</td>\n",
       "      <td>40.000000</td>\n",
       "      <td>4.700000</td>\n",
       "      <td>47.233763</td>\n",
       "      <td>47.233763</td>\n",
       "    </tr>\n",
       "    <tr>\n",
       "      <th>7</th>\n",
       "      <td>2016-01-11 18:10:00</td>\n",
       "      <td>60</td>\n",
       "      <td>50</td>\n",
       "      <td>19.856667</td>\n",
       "      <td>45.560000</td>\n",
       "      <td>19.20</td>\n",
       "      <td>44.500000</td>\n",
       "      <td>19.73</td>\n",
       "      <td>44.900000</td>\n",
       "      <td>18.890000</td>\n",
       "      <td>...</td>\n",
       "      <td>17.000000</td>\n",
       "      <td>45.29</td>\n",
       "      <td>5.916667</td>\n",
       "      <td>734.166667</td>\n",
       "      <td>91.833333</td>\n",
       "      <td>5.166667</td>\n",
       "      <td>40.000000</td>\n",
       "      <td>4.683333</td>\n",
       "      <td>33.039890</td>\n",
       "      <td>33.039890</td>\n",
       "    </tr>\n",
       "    <tr>\n",
       "      <th>8</th>\n",
       "      <td>2016-01-11 18:20:00</td>\n",
       "      <td>60</td>\n",
       "      <td>40</td>\n",
       "      <td>19.790000</td>\n",
       "      <td>45.597500</td>\n",
       "      <td>19.20</td>\n",
       "      <td>44.433333</td>\n",
       "      <td>19.73</td>\n",
       "      <td>44.790000</td>\n",
       "      <td>18.890000</td>\n",
       "      <td>...</td>\n",
       "      <td>17.000000</td>\n",
       "      <td>45.29</td>\n",
       "      <td>5.933333</td>\n",
       "      <td>734.233333</td>\n",
       "      <td>91.666667</td>\n",
       "      <td>5.333333</td>\n",
       "      <td>40.000000</td>\n",
       "      <td>4.666667</td>\n",
       "      <td>31.455702</td>\n",
       "      <td>31.455702</td>\n",
       "    </tr>\n",
       "    <tr>\n",
       "      <th>9</th>\n",
       "      <td>2016-01-11 18:30:00</td>\n",
       "      <td>70</td>\n",
       "      <td>40</td>\n",
       "      <td>19.856667</td>\n",
       "      <td>46.090000</td>\n",
       "      <td>19.23</td>\n",
       "      <td>44.400000</td>\n",
       "      <td>19.79</td>\n",
       "      <td>44.863333</td>\n",
       "      <td>18.890000</td>\n",
       "      <td>...</td>\n",
       "      <td>17.000000</td>\n",
       "      <td>45.29</td>\n",
       "      <td>5.950000</td>\n",
       "      <td>734.300000</td>\n",
       "      <td>91.500000</td>\n",
       "      <td>5.500000</td>\n",
       "      <td>40.000000</td>\n",
       "      <td>4.650000</td>\n",
       "      <td>3.089314</td>\n",
       "      <td>3.089314</td>\n",
       "    </tr>\n",
       "  </tbody>\n",
       "</table>\n",
       "<p>10 rows × 29 columns</p>\n",
       "</div>"
      ],
      "text/plain": [
       "                  date  Appliances  lights         T1       RH_1     T2  \\\n",
       "0  2016-01-11 17:00:00          60      30  19.890000  47.596667  19.20   \n",
       "1  2016-01-11 17:10:00          60      30  19.890000  46.693333  19.20   \n",
       "2  2016-01-11 17:20:00          50      30  19.890000  46.300000  19.20   \n",
       "3  2016-01-11 17:30:00          50      40  19.890000  46.066667  19.20   \n",
       "4  2016-01-11 17:40:00          60      40  19.890000  46.333333  19.20   \n",
       "5  2016-01-11 17:50:00          50      40  19.890000  46.026667  19.20   \n",
       "6  2016-01-11 18:00:00          60      50  19.890000  45.766667  19.20   \n",
       "7  2016-01-11 18:10:00          60      50  19.856667  45.560000  19.20   \n",
       "8  2016-01-11 18:20:00          60      40  19.790000  45.597500  19.20   \n",
       "9  2016-01-11 18:30:00          70      40  19.856667  46.090000  19.23   \n",
       "\n",
       "        RH_2     T3       RH_3         T4  ...         T9   RH_9     T_out  \\\n",
       "0  44.790000  19.79  44.730000  19.000000  ...  17.033333  45.53  6.600000   \n",
       "1  44.722500  19.79  44.790000  19.000000  ...  17.066667  45.56  6.483333   \n",
       "2  44.626667  19.79  44.933333  18.926667  ...  17.000000  45.50  6.366667   \n",
       "3  44.590000  19.79  45.000000  18.890000  ...  17.000000  45.40  6.250000   \n",
       "4  44.530000  19.79  45.000000  18.890000  ...  17.000000  45.40  6.133333   \n",
       "5  44.500000  19.79  44.933333  18.890000  ...  17.000000  45.29  6.016667   \n",
       "6  44.500000  19.79  44.900000  18.890000  ...  17.000000  45.29  5.900000   \n",
       "7  44.500000  19.73  44.900000  18.890000  ...  17.000000  45.29  5.916667   \n",
       "8  44.433333  19.73  44.790000  18.890000  ...  17.000000  45.29  5.933333   \n",
       "9  44.400000  19.79  44.863333  18.890000  ...  17.000000  45.29  5.950000   \n",
       "\n",
       "   Press_mm_hg     RH_out  Windspeed  Visibility  Tdewpoint        rv1  \\\n",
       "0   733.500000  92.000000   7.000000   63.000000   5.300000  13.275433   \n",
       "1   733.600000  92.000000   6.666667   59.166667   5.200000  18.606195   \n",
       "2   733.700000  92.000000   6.333333   55.333333   5.100000  28.642668   \n",
       "3   733.800000  92.000000   6.000000   51.500000   5.000000  45.410389   \n",
       "4   733.900000  92.000000   5.666667   47.666667   4.900000  10.084097   \n",
       "5   734.000000  92.000000   5.333333   43.833333   4.800000  44.919484   \n",
       "6   734.100000  92.000000   5.000000   40.000000   4.700000  47.233763   \n",
       "7   734.166667  91.833333   5.166667   40.000000   4.683333  33.039890   \n",
       "8   734.233333  91.666667   5.333333   40.000000   4.666667  31.455702   \n",
       "9   734.300000  91.500000   5.500000   40.000000   4.650000   3.089314   \n",
       "\n",
       "         rv2  \n",
       "0  13.275433  \n",
       "1  18.606195  \n",
       "2  28.642668  \n",
       "3  45.410389  \n",
       "4  10.084097  \n",
       "5  44.919484  \n",
       "6  47.233763  \n",
       "7  33.039890  \n",
       "8  31.455702  \n",
       "9   3.089314  \n",
       "\n",
       "[10 rows x 29 columns]"
      ]
     },
     "execution_count": 5,
     "metadata": {},
     "output_type": "execute_result"
    }
   ],
   "source": [
    "energy_data=pd.read_csv('C:\\\\Users\\HP\\\\Downloads\\\\hamoye\\\\dataset\\\\energydata_complete.csv')\n",
    "energy_data.head(10)"
   ]
  },
  {
   "cell_type": "markdown",
   "metadata": {},
   "source": [
    "# Simple Linear Regression"
   ]
  },
  {
   "cell_type": "code",
   "execution_count": 31,
   "metadata": {},
   "outputs": [],
   "source": [
    "df=pd.read_excel('https://archive.ics.uci.edu/ml/machine-learning-databases/00242/ENB2012_data.xlsx')"
   ]
  },
  {
   "cell_type": "code",
   "execution_count": 33,
   "metadata": {},
   "outputs": [],
   "source": [
    "column_names = {'X1':'Relative_Compactness', 'X2': 'Surface_Area', 'X3': 'Wall_Area', 'X4': 'Roof_Area', 'X5': 'Overall_Height', 'X6': 'Orientation', 'X7': 'Glazing_Area', 'X8': 'Glazing_Area_Distribution', 'Y1': 'Heating_Load', 'Y2': 'Cooling_Load'}"
   ]
  },
  {
   "cell_type": "code",
   "execution_count": 35,
   "metadata": {},
   "outputs": [],
   "source": [
    "df = df.rename(columns=column_names)"
   ]
  },
  {
   "cell_type": "code",
   "execution_count": 36,
   "metadata": {},
   "outputs": [
    {
     "data": {
      "text/plain": [
       "<matplotlib.axes._subplots.AxesSubplot at 0x230df18f4f0>"
      ]
     },
     "execution_count": 36,
     "metadata": {},
     "output_type": "execute_result"
    },
    {
     "data": {
      "image/png": "[encoded data removed]",
      "text/plain": [
       "<Figure size 432x288 with 1 Axes>"
      ]
     },
     "metadata": {
      "needs_background": "light"
     },
     "output_type": "display_data"
    }
   ],
   "source": [
    "simple_linear_reg_df=df[['Relative_Compactness','Cooling_Load']].sample(15,random_state=3)\n",
    "sns.regplot(x='Relative_Compactness',y='Cooling_Load',data=simple_linear_reg_df)"
   ]
  },
  {
   "cell_type": "markdown",
   "metadata": {},
   "source": [
    "# MEASURING REGRESSION PERFORMANCE\n"
   ]
  },
  {
   "cell_type": "markdown",
   "metadata": {},
   "source": [
    "# Mean absolute error"
   ]
  },
  {
   "cell_type": "code",
   "execution_count": 181,
   "metadata": {},
   "outputs": [],
   "source": [
    "from sklearn.preprocessing import MinMaxScaler\n",
    "scaler = MinMaxScaler()\n",
    "normalised_df = pd.DataFrame(scaler.fit_transform(df), columns=df.columns)\n",
    "features_df = normalised_df.drop(columns=['Heating_Load', 'Cooling_Load'])\n",
    "heating_target = normalised_df['Heating_Load']\n",
    "\n",
    "\n",
    "\n"
   ]
  },
  {
   "cell_type": "code",
   "execution_count": 25,
   "metadata": {},
   "outputs": [
    {
     "ename": "AttributeError",
     "evalue": "'MinMaxScaler' object has no attribute 'tranform'",
     "output_type": "error",
     "traceback": [
      "\u001b[1;31m---------------------------------------------------------------------------\u001b[0m",
      "\u001b[1;31mAttributeError\u001b[0m                            Traceback (most recent call last)",
      "\u001b[1;32m<ipython-input-25-4101de7fcfa6>\u001b[0m in \u001b[0;36m<module>\u001b[1;34m\u001b[0m\n\u001b[1;32m----> 1\u001b[1;33m \u001b[0mnormalized_df\u001b[0m\u001b[1;33m=\u001b[0m\u001b[0mpd\u001b[0m\u001b[1;33m.\u001b[0m\u001b[0mDataFrame\u001b[0m\u001b[1;33m(\u001b[0m\u001b[0mscaler\u001b[0m\u001b[1;33m.\u001b[0m\u001b[0mtranform\u001b[0m\u001b[1;33m(\u001b[0m\u001b[0mdf\u001b[0m\u001b[1;33m)\u001b[0m\u001b[1;33m,\u001b[0m \u001b[0mcolumns\u001b[0m\u001b[1;33m=\u001b[0m\u001b[0mdf\u001b[0m\u001b[1;33m.\u001b[0m\u001b[0mcolumns\u001b[0m\u001b[1;33m)\u001b[0m\u001b[1;33m\u001b[0m\u001b[1;33m\u001b[0m\u001b[0m\n\u001b[0m\u001b[0;32m      2\u001b[0m \u001b[0mfeatures_df\u001b[0m\u001b[1;33m=\u001b[0m\u001b[0mnormalized_df\u001b[0m\u001b[1;33m.\u001b[0m\u001b[0mdrop\u001b[0m\u001b[1;33m(\u001b[0m\u001b[0mcolumns\u001b[0m\u001b[1;33m=\u001b[0m\u001b[1;33m[\u001b[0m\u001b[1;34m'Heating_Load'\u001b[0m\u001b[1;33m,\u001b[0m\u001b[1;34m'Cooling_Load'\u001b[0m\u001b[1;33m]\u001b[0m\u001b[1;33m)\u001b[0m\u001b[1;33m\u001b[0m\u001b[1;33m\u001b[0m\u001b[0m\n\u001b[0;32m      3\u001b[0m \u001b[0mheating_target\u001b[0m\u001b[1;33m=\u001b[0m\u001b[0mnormalized_df\u001b[0m\u001b[1;33m[\u001b[0m\u001b[1;34m'Heating_Load'\u001b[0m\u001b[1;33m]\u001b[0m\u001b[1;33m\u001b[0m\u001b[1;33m\u001b[0m\u001b[0m\n",
      "\u001b[1;31mAttributeError\u001b[0m: 'MinMaxScaler' object has no attribute 'tranform'"
     ]
    }
   ],
   "source": []
  },
  {
   "cell_type": "code",
   "execution_count": 182,
   "metadata": {},
   "outputs": [],
   "source": [
    "from sklearn.model_selection import train_test_split\n",
    "x_train,x_test,y_train,y_test=train_test_split(features_df , heating_target, test_size=0.3 ,random_state=1)\n",
    "\n"
   ]
  },
  {
   "cell_type": "code",
   "execution_count": 183,
   "metadata": {},
   "outputs": [],
   "source": [
    "from sklearn.linear_model import LinearRegression\n",
    "linear_model=LinearRegression()\n",
    "linear_model.fit(x_train,y_train)\n",
    "pred_values=linear_model.predict(x_test)\n",
    "\n",
    "from sklearn.metrics import mean_absolute_error\n",
    "mae=mean_absolute_error(y_test,pred_values)"
   ]
  },
  {
   "cell_type": "code",
   "execution_count": 184,
   "metadata": {},
   "outputs": [
    {
     "data": {
      "text/plain": [
       "0.063"
      ]
     },
     "execution_count": 184,
     "metadata": {},
     "output_type": "execute_result"
    }
   ],
   "source": [
    "round(mae,3)"
   ]
  },
  {
   "cell_type": "markdown",
   "metadata": {},
   "source": [
    "# Residual sum of squared (Variance)"
   ]
  },
  {
   "cell_type": "code",
   "execution_count": 55,
   "metadata": {},
   "outputs": [
    {
     "data": {
      "text/plain": [
       "1.827"
      ]
     },
     "execution_count": 55,
     "metadata": {},
     "output_type": "execute_result"
    }
   ],
   "source": [
    "import numpy as np\n",
    "rss=np.sum(np.square(y_test - pred_values))\n",
    "round(rss,3)"
   ]
  },
  {
   "cell_type": "markdown",
   "metadata": {},
   "source": [
    "# Root Mean squared error"
   ]
  },
  {
   "cell_type": "code",
   "execution_count": 58,
   "metadata": {},
   "outputs": [
    {
     "data": {
      "text/plain": [
       "0.089"
      ]
     },
     "execution_count": 58,
     "metadata": {},
     "output_type": "execute_result"
    }
   ],
   "source": [
    "from sklearn.metrics import mean_squared_error\n",
    "rmse=np.sqrt(mean_squared_error(y_test,pred_values))\n",
    "round(rmse, 3)"
   ]
  },
  {
   "cell_type": "markdown",
   "metadata": {},
   "source": [
    "# R-Squared \n",
    "\n",
    "Also known as the coefficient of determination, r-squared is a metric used in regression to determine the goodness of fit of the model. With values ranging from 0 to 1, It gives information on the percentage of the response variable  explained by the model. Mostly, the higher the value, the better the model however, this is not necessarily always true"
   ]
  },
  {
   "cell_type": "code",
   "execution_count": 59,
   "metadata": {},
   "outputs": [
    {
     "data": {
      "text/plain": [
       "0.893"
      ]
     },
     "execution_count": 59,
     "metadata": {},
     "output_type": "execute_result"
    }
   ],
   "source": [
    "from sklearn.metrics import r2_score\n",
    "r2_score=r2_score(y_test,pred_values)\n",
    "round(r2_score,3)"
   ]
  },
  {
   "cell_type": "markdown",
   "metadata": {},
   "source": [
    "# Penalization Methods"
   ]
  },
  {
   "cell_type": "markdown",
   "metadata": {},
   "source": [
    "Regularization is a method used to make complex models simpler by penalising coefficients to reduce their magnitude, variance in the training set and in turn, reduce overfitting in the model.Regularization occurs by shrinking the coefficients in the model towards zero such that the complexity term added to the model will result in a bigger loss for models with a higher complexity . There are two types of regression techniques such as Ridge and Lasso regression.\n"
   ]
  },
  {
   "cell_type": "markdown",
   "metadata": {},
   "source": [
    "# ridge regression"
   ]
  },
  {
   "cell_type": "code",
   "execution_count": 60,
   "metadata": {},
   "outputs": [
    {
     "data": {
      "text/plain": [
       "Ridge(alpha=0.5)"
      ]
     },
     "execution_count": 60,
     "metadata": {},
     "output_type": "execute_result"
    }
   ],
   "source": [
    "from sklearn.linear_model import Ridge\n",
    "ridge_reg=Ridge(alpha=0.5)\n",
    "ridge_reg.fit(x_train,y_train)"
   ]
  },
  {
   "cell_type": "code",
   "execution_count": 62,
   "metadata": {},
   "outputs": [
    {
     "data": {
      "text/plain": [
       "Lasso(alpha=0.001)"
      ]
     },
     "execution_count": 62,
     "metadata": {},
     "output_type": "execute_result"
    }
   ],
   "source": [
    "from sklearn.linear_model import Lasso\n",
    "lasso_reg=Lasso(alpha=0.001)\n",
    "lasso_reg.fit(x_train,y_train)"
   ]
  },
  {
   "cell_type": "markdown",
   "metadata": {},
   "source": [
    "# comparing the effects of reguarlization"
   ]
  },
  {
   "cell_type": "code",
   "execution_count": 82,
   "metadata": {},
   "outputs": [],
   "source": [
    "def get_weights_df(model,feat,col_name):\n",
    "    weights=pd.Series(model.coef_,feat.columns).sort_values()\n",
    "    weights_df=pd.DataFrame(weights).reset_index()\n",
    "    weights_df.columns =['Features',col_name]\n",
    "    weights_df[col_name].round(3)\n",
    "    return weights_df\n",
    "\n"
   ]
  },
  {
   "cell_type": "code",
   "execution_count": 79,
   "metadata": {},
   "outputs": [],
   "source": [
    "linear_model_weights=get_weights_df(linear_model,x_train,'Linear_Model_Weight')\n",
    "ridge_weights_df= get_weights_df(ridge_reg,x_train,'Ridge_weight')\n",
    "lasso_weights_df=get_weights_df(lasso_reg,x_train,'Lasso_weight')"
   ]
  },
  {
   "cell_type": "code",
   "execution_count": 80,
   "metadata": {},
   "outputs": [],
   "source": [
    "final_weights=pd.merge(linear_model_weights,ridge_weights_df, on='Features')\n",
    "final_weights=pd.merge(final_weights,lasso_weights_df, on='Features')"
   ]
  },
  {
   "cell_type": "code",
   "execution_count": 83,
   "metadata": {},
   "outputs": [
    {
     "data": {
      "text/html": [
       "<div>\n",
       "<style scoped>\n",
       "    .dataframe tbody tr th:only-of-type {\n",
       "        vertical-align: middle;\n",
       "    }\n",
       "\n",
       "    .dataframe tbody tr th {\n",
       "        vertical-align: top;\n",
       "    }\n",
       "\n",
       "    .dataframe thead th {\n",
       "        text-align: right;\n",
       "    }\n",
       "</style>\n",
       "<table border=\"1\" class=\"dataframe\">\n",
       "  <thead>\n",
       "    <tr style=\"text-align: right;\">\n",
       "      <th></th>\n",
       "      <th>Features</th>\n",
       "      <th>Linear_Model_Weight</th>\n",
       "      <th>Ridge_weight</th>\n",
       "      <th>Lasso_weight</th>\n",
       "    </tr>\n",
       "  </thead>\n",
       "  <tbody>\n",
       "    <tr>\n",
       "      <th>0</th>\n",
       "      <td>Surface_Area</td>\n",
       "      <td>-5.620066e+12</td>\n",
       "      <td>-0.062275</td>\n",
       "      <td>0.000000</td>\n",
       "    </tr>\n",
       "    <tr>\n",
       "      <th>1</th>\n",
       "      <td>Relative_Compactness</td>\n",
       "      <td>-5.855289e-01</td>\n",
       "      <td>-0.283471</td>\n",
       "      <td>-0.027719</td>\n",
       "    </tr>\n",
       "    <tr>\n",
       "      <th>2</th>\n",
       "      <td>Orientation</td>\n",
       "      <td>3.376007e-03</td>\n",
       "      <td>0.003369</td>\n",
       "      <td>0.000000</td>\n",
       "    </tr>\n",
       "    <tr>\n",
       "      <th>3</th>\n",
       "      <td>Glazing_Area_Distribution</td>\n",
       "      <td>2.662706e-02</td>\n",
       "      <td>0.029088</td>\n",
       "      <td>0.021431</td>\n",
       "    </tr>\n",
       "    <tr>\n",
       "      <th>4</th>\n",
       "      <td>Glazing_Area</td>\n",
       "      <td>2.148657e-01</td>\n",
       "      <td>0.212449</td>\n",
       "      <td>0.206132</td>\n",
       "    </tr>\n",
       "    <tr>\n",
       "      <th>5</th>\n",
       "      <td>Overall_Height</td>\n",
       "      <td>3.945312e-01</td>\n",
       "      <td>0.442467</td>\n",
       "      <td>0.463482</td>\n",
       "    </tr>\n",
       "    <tr>\n",
       "      <th>6</th>\n",
       "      <td>Wall_Area</td>\n",
       "      <td>3.278372e+12</td>\n",
       "      <td>0.103061</td>\n",
       "      <td>0.200087</td>\n",
       "    </tr>\n",
       "    <tr>\n",
       "      <th>7</th>\n",
       "      <td>Roof_Area</td>\n",
       "      <td>4.215050e+12</td>\n",
       "      <td>-0.163192</td>\n",
       "      <td>-0.000000</td>\n",
       "    </tr>\n",
       "  </tbody>\n",
       "</table>\n",
       "</div>"
      ],
      "text/plain": [
       "                    Features  Linear_Model_Weight  Ridge_weight  Lasso_weight\n",
       "0               Surface_Area        -5.620066e+12     -0.062275      0.000000\n",
       "1       Relative_Compactness        -5.855289e-01     -0.283471     -0.027719\n",
       "2                Orientation         3.376007e-03      0.003369      0.000000\n",
       "3  Glazing_Area_Distribution         2.662706e-02      0.029088      0.021431\n",
       "4               Glazing_Area         2.148657e-01      0.212449      0.206132\n",
       "5             Overall_Height         3.945312e-01      0.442467      0.463482\n",
       "6                  Wall_Area         3.278372e+12      0.103061      0.200087\n",
       "7                  Roof_Area         4.215050e+12     -0.163192     -0.000000"
      ]
     },
     "execution_count": 83,
     "metadata": {},
     "output_type": "execute_result"
    }
   ],
   "source": [
    "final_weights"
   ]
  },
  {
   "cell_type": "code",
   "execution_count": null,
   "metadata": {},
   "outputs": [],
   "source": []
  },
  {
   "cell_type": "code",
   "execution_count": null,
   "metadata": {},
   "outputs": [],
   "source": []
  },
  {
   "cell_type": "code",
   "execution_count": null,
   "metadata": {},
   "outputs": [],
   "source": []
  },
  {
   "cell_type": "code",
   "execution_count": 81,
   "metadata": {},
   "outputs": [
    {
     "data": {
      "text/html": [
       "<div>\n",
       "<style scoped>\n",
       "    .dataframe tbody tr th:only-of-type {\n",
       "        vertical-align: middle;\n",
       "    }\n",
       "\n",
       "    .dataframe tbody tr th {\n",
       "        vertical-align: top;\n",
       "    }\n",
       "\n",
       "    .dataframe thead th {\n",
       "        text-align: right;\n",
       "    }\n",
       "</style>\n",
       "<table border=\"1\" class=\"dataframe\">\n",
       "  <thead>\n",
       "    <tr style=\"text-align: right;\">\n",
       "      <th></th>\n",
       "      <th>Features</th>\n",
       "      <th>Linear_Model_Weight</th>\n",
       "      <th>Ridge_weight</th>\n",
       "      <th>Lasso_weight</th>\n",
       "    </tr>\n",
       "  </thead>\n",
       "  <tbody>\n",
       "    <tr>\n",
       "      <th>0</th>\n",
       "      <td>Surface_Area</td>\n",
       "      <td>-5.620066e+12</td>\n",
       "      <td>-0.062275</td>\n",
       "      <td>0.000000</td>\n",
       "    </tr>\n",
       "    <tr>\n",
       "      <th>1</th>\n",
       "      <td>Relative_Compactness</td>\n",
       "      <td>-5.855289e-01</td>\n",
       "      <td>-0.283471</td>\n",
       "      <td>-0.027719</td>\n",
       "    </tr>\n",
       "    <tr>\n",
       "      <th>2</th>\n",
       "      <td>Orientation</td>\n",
       "      <td>3.376007e-03</td>\n",
       "      <td>0.003369</td>\n",
       "      <td>0.000000</td>\n",
       "    </tr>\n",
       "    <tr>\n",
       "      <th>3</th>\n",
       "      <td>Glazing_Area_Distribution</td>\n",
       "      <td>2.662706e-02</td>\n",
       "      <td>0.029088</td>\n",
       "      <td>0.021431</td>\n",
       "    </tr>\n",
       "    <tr>\n",
       "      <th>4</th>\n",
       "      <td>Glazing_Area</td>\n",
       "      <td>2.148657e-01</td>\n",
       "      <td>0.212449</td>\n",
       "      <td>0.206132</td>\n",
       "    </tr>\n",
       "    <tr>\n",
       "      <th>5</th>\n",
       "      <td>Overall_Height</td>\n",
       "      <td>3.945312e-01</td>\n",
       "      <td>0.442467</td>\n",
       "      <td>0.463482</td>\n",
       "    </tr>\n",
       "    <tr>\n",
       "      <th>6</th>\n",
       "      <td>Wall_Area</td>\n",
       "      <td>3.278372e+12</td>\n",
       "      <td>0.103061</td>\n",
       "      <td>0.200087</td>\n",
       "    </tr>\n",
       "    <tr>\n",
       "      <th>7</th>\n",
       "      <td>Roof_Area</td>\n",
       "      <td>4.215050e+12</td>\n",
       "      <td>-0.163192</td>\n",
       "      <td>-0.000000</td>\n",
       "    </tr>\n",
       "  </tbody>\n",
       "</table>\n",
       "</div>"
      ],
      "text/plain": [
       "                    Features  Linear_Model_Weight  Ridge_weight  Lasso_weight\n",
       "0               Surface_Area        -5.620066e+12     -0.062275      0.000000\n",
       "1       Relative_Compactness        -5.855289e-01     -0.283471     -0.027719\n",
       "2                Orientation         3.376007e-03      0.003369      0.000000\n",
       "3  Glazing_Area_Distribution         2.662706e-02      0.029088      0.021431\n",
       "4               Glazing_Area         2.148657e-01      0.212449      0.206132\n",
       "5             Overall_Height         3.945312e-01      0.442467      0.463482\n",
       "6                  Wall_Area         3.278372e+12      0.103061      0.200087\n",
       "7                  Roof_Area         4.215050e+12     -0.163192     -0.000000"
      ]
     },
     "execution_count": 81,
     "metadata": {},
     "output_type": "execute_result"
    }
   ],
   "source": [
    "final_weights"
   ]
  },
  {
   "cell_type": "code",
   "execution_count": 194,
   "metadata": {},
   "outputs": [],
   "source": [
    "import numpy as np # linear algebra\n",
    "import pandas as pd # data processing, CSV file I/O (e.g. pd.read_csv)\n",
    "import numpy as np\n",
    "import pandas as pd\n",
    "import matplotlib.pyplot as plt\n",
    "import seaborn as sns\n",
    "from sklearn import preprocessing, model_selection, metrics\n",
    "import warnings\n",
    "warnings.filterwarnings(\"ignore\")\n"
   ]
  },
  {
   "cell_type": "code",
   "execution_count": 274,
   "metadata": {},
   "outputs": [
    {
     "name": "stdout",
     "output_type": "stream",
     "text": [
      "<class 'pandas.core.frame.DataFrame'>\n",
      "RangeIndex: 19735 entries, 0 to 19734\n",
      "Data columns (total 29 columns):\n",
      " #   Column       Non-Null Count  Dtype  \n",
      "---  ------       --------------  -----  \n",
      " 0   date         19735 non-null  float64\n",
      " 1   Appliances   19735 non-null  int64  \n",
      " 2   lights       19735 non-null  int64  \n",
      " 3   T1           19735 non-null  float64\n",
      " 4   RH_1         19735 non-null  float64\n",
      " 5   T2           19735 non-null  float64\n",
      " 6   RH_2         19735 non-null  float64\n",
      " 7   T3           19735 non-null  float64\n",
      " 8   RH_3         19735 non-null  float64\n",
      " 9   T4           19735 non-null  float64\n",
      " 10  RH_4         19735 non-null  float64\n",
      " 11  T5           19735 non-null  float64\n",
      " 12  RH_5         19735 non-null  float64\n",
      " 13  T6           19735 non-null  float64\n",
      " 14  RH_6         19735 non-null  float64\n",
      " 15  T7           19735 non-null  float64\n",
      " 16  RH_7         19735 non-null  float64\n",
      " 17  T8           19735 non-null  float64\n",
      " 18  RH_8         19735 non-null  float64\n",
      " 19  T9           19735 non-null  float64\n",
      " 20  RH_9         19735 non-null  float64\n",
      " 21  T_out        19735 non-null  float64\n",
      " 22  Press_mm_hg  19735 non-null  float64\n",
      " 23  RH_out       19735 non-null  float64\n",
      " 24  Windspeed    19735 non-null  float64\n",
      " 25  Visibility   19735 non-null  float64\n",
      " 26  Tdewpoint    19735 non-null  float64\n",
      " 27  rv1          19735 non-null  float64\n",
      " 28  rv2          19735 non-null  float64\n",
      "dtypes: float64(27), int64(2)\n",
      "memory usage: 4.4 MB\n"
     ]
    }
   ],
   "source": [
    "energy_data.info()"
   ]
  },
  {
   "cell_type": "code",
   "execution_count": 195,
   "metadata": {},
   "outputs": [
    {
     "data": {
      "text/html": [
       "<div>\n",
       "<style scoped>\n",
       "    .dataframe tbody tr th:only-of-type {\n",
       "        vertical-align: middle;\n",
       "    }\n",
       "\n",
       "    .dataframe tbody tr th {\n",
       "        vertical-align: top;\n",
       "    }\n",
       "\n",
       "    .dataframe thead th {\n",
       "        text-align: right;\n",
       "    }\n",
       "</style>\n",
       "<table border=\"1\" class=\"dataframe\">\n",
       "  <thead>\n",
       "    <tr style=\"text-align: right;\">\n",
       "      <th></th>\n",
       "      <th>date</th>\n",
       "      <th>Appliances</th>\n",
       "      <th>lights</th>\n",
       "      <th>T1</th>\n",
       "      <th>RH_1</th>\n",
       "      <th>T2</th>\n",
       "      <th>RH_2</th>\n",
       "      <th>T3</th>\n",
       "      <th>RH_3</th>\n",
       "      <th>T4</th>\n",
       "      <th>...</th>\n",
       "      <th>T9</th>\n",
       "      <th>RH_9</th>\n",
       "      <th>T_out</th>\n",
       "      <th>Press_mm_hg</th>\n",
       "      <th>RH_out</th>\n",
       "      <th>Windspeed</th>\n",
       "      <th>Visibility</th>\n",
       "      <th>Tdewpoint</th>\n",
       "      <th>rv1</th>\n",
       "      <th>rv2</th>\n",
       "    </tr>\n",
       "  </thead>\n",
       "  <tbody>\n",
       "    <tr>\n",
       "      <th>0</th>\n",
       "      <td>2016-01-11 17:00:00</td>\n",
       "      <td>60</td>\n",
       "      <td>30</td>\n",
       "      <td>19.890000</td>\n",
       "      <td>47.596667</td>\n",
       "      <td>19.20</td>\n",
       "      <td>44.790000</td>\n",
       "      <td>19.79</td>\n",
       "      <td>44.730000</td>\n",
       "      <td>19.000000</td>\n",
       "      <td>...</td>\n",
       "      <td>17.033333</td>\n",
       "      <td>45.53</td>\n",
       "      <td>6.600000</td>\n",
       "      <td>733.500000</td>\n",
       "      <td>92.000000</td>\n",
       "      <td>7.000000</td>\n",
       "      <td>63.000000</td>\n",
       "      <td>5.300000</td>\n",
       "      <td>13.275433</td>\n",
       "      <td>13.275433</td>\n",
       "    </tr>\n",
       "    <tr>\n",
       "      <th>1</th>\n",
       "      <td>2016-01-11 17:10:00</td>\n",
       "      <td>60</td>\n",
       "      <td>30</td>\n",
       "      <td>19.890000</td>\n",
       "      <td>46.693333</td>\n",
       "      <td>19.20</td>\n",
       "      <td>44.722500</td>\n",
       "      <td>19.79</td>\n",
       "      <td>44.790000</td>\n",
       "      <td>19.000000</td>\n",
       "      <td>...</td>\n",
       "      <td>17.066667</td>\n",
       "      <td>45.56</td>\n",
       "      <td>6.483333</td>\n",
       "      <td>733.600000</td>\n",
       "      <td>92.000000</td>\n",
       "      <td>6.666667</td>\n",
       "      <td>59.166667</td>\n",
       "      <td>5.200000</td>\n",
       "      <td>18.606195</td>\n",
       "      <td>18.606195</td>\n",
       "    </tr>\n",
       "    <tr>\n",
       "      <th>2</th>\n",
       "      <td>2016-01-11 17:20:00</td>\n",
       "      <td>50</td>\n",
       "      <td>30</td>\n",
       "      <td>19.890000</td>\n",
       "      <td>46.300000</td>\n",
       "      <td>19.20</td>\n",
       "      <td>44.626667</td>\n",
       "      <td>19.79</td>\n",
       "      <td>44.933333</td>\n",
       "      <td>18.926667</td>\n",
       "      <td>...</td>\n",
       "      <td>17.000000</td>\n",
       "      <td>45.50</td>\n",
       "      <td>6.366667</td>\n",
       "      <td>733.700000</td>\n",
       "      <td>92.000000</td>\n",
       "      <td>6.333333</td>\n",
       "      <td>55.333333</td>\n",
       "      <td>5.100000</td>\n",
       "      <td>28.642668</td>\n",
       "      <td>28.642668</td>\n",
       "    </tr>\n",
       "    <tr>\n",
       "      <th>3</th>\n",
       "      <td>2016-01-11 17:30:00</td>\n",
       "      <td>50</td>\n",
       "      <td>40</td>\n",
       "      <td>19.890000</td>\n",
       "      <td>46.066667</td>\n",
       "      <td>19.20</td>\n",
       "      <td>44.590000</td>\n",
       "      <td>19.79</td>\n",
       "      <td>45.000000</td>\n",
       "      <td>18.890000</td>\n",
       "      <td>...</td>\n",
       "      <td>17.000000</td>\n",
       "      <td>45.40</td>\n",
       "      <td>6.250000</td>\n",
       "      <td>733.800000</td>\n",
       "      <td>92.000000</td>\n",
       "      <td>6.000000</td>\n",
       "      <td>51.500000</td>\n",
       "      <td>5.000000</td>\n",
       "      <td>45.410389</td>\n",
       "      <td>45.410389</td>\n",
       "    </tr>\n",
       "    <tr>\n",
       "      <th>4</th>\n",
       "      <td>2016-01-11 17:40:00</td>\n",
       "      <td>60</td>\n",
       "      <td>40</td>\n",
       "      <td>19.890000</td>\n",
       "      <td>46.333333</td>\n",
       "      <td>19.20</td>\n",
       "      <td>44.530000</td>\n",
       "      <td>19.79</td>\n",
       "      <td>45.000000</td>\n",
       "      <td>18.890000</td>\n",
       "      <td>...</td>\n",
       "      <td>17.000000</td>\n",
       "      <td>45.40</td>\n",
       "      <td>6.133333</td>\n",
       "      <td>733.900000</td>\n",
       "      <td>92.000000</td>\n",
       "      <td>5.666667</td>\n",
       "      <td>47.666667</td>\n",
       "      <td>4.900000</td>\n",
       "      <td>10.084097</td>\n",
       "      <td>10.084097</td>\n",
       "    </tr>\n",
       "    <tr>\n",
       "      <th>5</th>\n",
       "      <td>2016-01-11 17:50:00</td>\n",
       "      <td>50</td>\n",
       "      <td>40</td>\n",
       "      <td>19.890000</td>\n",
       "      <td>46.026667</td>\n",
       "      <td>19.20</td>\n",
       "      <td>44.500000</td>\n",
       "      <td>19.79</td>\n",
       "      <td>44.933333</td>\n",
       "      <td>18.890000</td>\n",
       "      <td>...</td>\n",
       "      <td>17.000000</td>\n",
       "      <td>45.29</td>\n",
       "      <td>6.016667</td>\n",
       "      <td>734.000000</td>\n",
       "      <td>92.000000</td>\n",
       "      <td>5.333333</td>\n",
       "      <td>43.833333</td>\n",
       "      <td>4.800000</td>\n",
       "      <td>44.919484</td>\n",
       "      <td>44.919484</td>\n",
       "    </tr>\n",
       "    <tr>\n",
       "      <th>6</th>\n",
       "      <td>2016-01-11 18:00:00</td>\n",
       "      <td>60</td>\n",
       "      <td>50</td>\n",
       "      <td>19.890000</td>\n",
       "      <td>45.766667</td>\n",
       "      <td>19.20</td>\n",
       "      <td>44.500000</td>\n",
       "      <td>19.79</td>\n",
       "      <td>44.900000</td>\n",
       "      <td>18.890000</td>\n",
       "      <td>...</td>\n",
       "      <td>17.000000</td>\n",
       "      <td>45.29</td>\n",
       "      <td>5.900000</td>\n",
       "      <td>734.100000</td>\n",
       "      <td>92.000000</td>\n",
       "      <td>5.000000</td>\n",
       "      <td>40.000000</td>\n",
       "      <td>4.700000</td>\n",
       "      <td>47.233763</td>\n",
       "      <td>47.233763</td>\n",
       "    </tr>\n",
       "    <tr>\n",
       "      <th>7</th>\n",
       "      <td>2016-01-11 18:10:00</td>\n",
       "      <td>60</td>\n",
       "      <td>50</td>\n",
       "      <td>19.856667</td>\n",
       "      <td>45.560000</td>\n",
       "      <td>19.20</td>\n",
       "      <td>44.500000</td>\n",
       "      <td>19.73</td>\n",
       "      <td>44.900000</td>\n",
       "      <td>18.890000</td>\n",
       "      <td>...</td>\n",
       "      <td>17.000000</td>\n",
       "      <td>45.29</td>\n",
       "      <td>5.916667</td>\n",
       "      <td>734.166667</td>\n",
       "      <td>91.833333</td>\n",
       "      <td>5.166667</td>\n",
       "      <td>40.000000</td>\n",
       "      <td>4.683333</td>\n",
       "      <td>33.039890</td>\n",
       "      <td>33.039890</td>\n",
       "    </tr>\n",
       "    <tr>\n",
       "      <th>8</th>\n",
       "      <td>2016-01-11 18:20:00</td>\n",
       "      <td>60</td>\n",
       "      <td>40</td>\n",
       "      <td>19.790000</td>\n",
       "      <td>45.597500</td>\n",
       "      <td>19.20</td>\n",
       "      <td>44.433333</td>\n",
       "      <td>19.73</td>\n",
       "      <td>44.790000</td>\n",
       "      <td>18.890000</td>\n",
       "      <td>...</td>\n",
       "      <td>17.000000</td>\n",
       "      <td>45.29</td>\n",
       "      <td>5.933333</td>\n",
       "      <td>734.233333</td>\n",
       "      <td>91.666667</td>\n",
       "      <td>5.333333</td>\n",
       "      <td>40.000000</td>\n",
       "      <td>4.666667</td>\n",
       "      <td>31.455702</td>\n",
       "      <td>31.455702</td>\n",
       "    </tr>\n",
       "    <tr>\n",
       "      <th>9</th>\n",
       "      <td>2016-01-11 18:30:00</td>\n",
       "      <td>70</td>\n",
       "      <td>40</td>\n",
       "      <td>19.856667</td>\n",
       "      <td>46.090000</td>\n",
       "      <td>19.23</td>\n",
       "      <td>44.400000</td>\n",
       "      <td>19.79</td>\n",
       "      <td>44.863333</td>\n",
       "      <td>18.890000</td>\n",
       "      <td>...</td>\n",
       "      <td>17.000000</td>\n",
       "      <td>45.29</td>\n",
       "      <td>5.950000</td>\n",
       "      <td>734.300000</td>\n",
       "      <td>91.500000</td>\n",
       "      <td>5.500000</td>\n",
       "      <td>40.000000</td>\n",
       "      <td>4.650000</td>\n",
       "      <td>3.089314</td>\n",
       "      <td>3.089314</td>\n",
       "    </tr>\n",
       "  </tbody>\n",
       "</table>\n",
       "<p>10 rows × 29 columns</p>\n",
       "</div>"
      ],
      "text/plain": [
       "                  date  Appliances  lights         T1       RH_1     T2  \\\n",
       "0  2016-01-11 17:00:00          60      30  19.890000  47.596667  19.20   \n",
       "1  2016-01-11 17:10:00          60      30  19.890000  46.693333  19.20   \n",
       "2  2016-01-11 17:20:00          50      30  19.890000  46.300000  19.20   \n",
       "3  2016-01-11 17:30:00          50      40  19.890000  46.066667  19.20   \n",
       "4  2016-01-11 17:40:00          60      40  19.890000  46.333333  19.20   \n",
       "5  2016-01-11 17:50:00          50      40  19.890000  46.026667  19.20   \n",
       "6  2016-01-11 18:00:00          60      50  19.890000  45.766667  19.20   \n",
       "7  2016-01-11 18:10:00          60      50  19.856667  45.560000  19.20   \n",
       "8  2016-01-11 18:20:00          60      40  19.790000  45.597500  19.20   \n",
       "9  2016-01-11 18:30:00          70      40  19.856667  46.090000  19.23   \n",
       "\n",
       "        RH_2     T3       RH_3         T4  ...         T9   RH_9     T_out  \\\n",
       "0  44.790000  19.79  44.730000  19.000000  ...  17.033333  45.53  6.600000   \n",
       "1  44.722500  19.79  44.790000  19.000000  ...  17.066667  45.56  6.483333   \n",
       "2  44.626667  19.79  44.933333  18.926667  ...  17.000000  45.50  6.366667   \n",
       "3  44.590000  19.79  45.000000  18.890000  ...  17.000000  45.40  6.250000   \n",
       "4  44.530000  19.79  45.000000  18.890000  ...  17.000000  45.40  6.133333   \n",
       "5  44.500000  19.79  44.933333  18.890000  ...  17.000000  45.29  6.016667   \n",
       "6  44.500000  19.79  44.900000  18.890000  ...  17.000000  45.29  5.900000   \n",
       "7  44.500000  19.73  44.900000  18.890000  ...  17.000000  45.29  5.916667   \n",
       "8  44.433333  19.73  44.790000  18.890000  ...  17.000000  45.29  5.933333   \n",
       "9  44.400000  19.79  44.863333  18.890000  ...  17.000000  45.29  5.950000   \n",
       "\n",
       "   Press_mm_hg     RH_out  Windspeed  Visibility  Tdewpoint        rv1  \\\n",
       "0   733.500000  92.000000   7.000000   63.000000   5.300000  13.275433   \n",
       "1   733.600000  92.000000   6.666667   59.166667   5.200000  18.606195   \n",
       "2   733.700000  92.000000   6.333333   55.333333   5.100000  28.642668   \n",
       "3   733.800000  92.000000   6.000000   51.500000   5.000000  45.410389   \n",
       "4   733.900000  92.000000   5.666667   47.666667   4.900000  10.084097   \n",
       "5   734.000000  92.000000   5.333333   43.833333   4.800000  44.919484   \n",
       "6   734.100000  92.000000   5.000000   40.000000   4.700000  47.233763   \n",
       "7   734.166667  91.833333   5.166667   40.000000   4.683333  33.039890   \n",
       "8   734.233333  91.666667   5.333333   40.000000   4.666667  31.455702   \n",
       "9   734.300000  91.500000   5.500000   40.000000   4.650000   3.089314   \n",
       "\n",
       "         rv2  \n",
       "0  13.275433  \n",
       "1  18.606195  \n",
       "2  28.642668  \n",
       "3  45.410389  \n",
       "4  10.084097  \n",
       "5  44.919484  \n",
       "6  47.233763  \n",
       "7  33.039890  \n",
       "8  31.455702  \n",
       "9   3.089314  \n",
       "\n",
       "[10 rows x 29 columns]"
      ]
     },
     "execution_count": 195,
     "metadata": {},
     "output_type": "execute_result"
    }
   ],
   "source": [
    "energy_data=pd.read_csv('C:\\\\Users\\HP\\\\Downloads\\\\hamoye\\\\dataset\\\\energydata_complete.csv')\n",
    "energy_data.head(10)\n"
   ]
  },
  {
   "cell_type": "code",
   "execution_count": 196,
   "metadata": {},
   "outputs": [
    {
     "name": "stdout",
     "output_type": "stream",
     "text": [
      "<class 'pandas.core.frame.DataFrame'>\n",
      "RangeIndex: 19735 entries, 0 to 19734\n",
      "Data columns (total 29 columns):\n",
      " #   Column       Non-Null Count  Dtype  \n",
      "---  ------       --------------  -----  \n",
      " 0   date         19735 non-null  object \n",
      " 1   Appliances   19735 non-null  int64  \n",
      " 2   lights       19735 non-null  int64  \n",
      " 3   T1           19735 non-null  float64\n",
      " 4   RH_1         19735 non-null  float64\n",
      " 5   T2           19735 non-null  float64\n",
      " 6   RH_2         19735 non-null  float64\n",
      " 7   T3           19735 non-null  float64\n",
      " 8   RH_3         19735 non-null  float64\n",
      " 9   T4           19735 non-null  float64\n",
      " 10  RH_4         19735 non-null  float64\n",
      " 11  T5           19735 non-null  float64\n",
      " 12  RH_5         19735 non-null  float64\n",
      " 13  T6           19735 non-null  float64\n",
      " 14  RH_6         19735 non-null  float64\n",
      " 15  T7           19735 non-null  float64\n",
      " 16  RH_7         19735 non-null  float64\n",
      " 17  T8           19735 non-null  float64\n",
      " 18  RH_8         19735 non-null  float64\n",
      " 19  T9           19735 non-null  float64\n",
      " 20  RH_9         19735 non-null  float64\n",
      " 21  T_out        19735 non-null  float64\n",
      " 22  Press_mm_hg  19735 non-null  float64\n",
      " 23  RH_out       19735 non-null  float64\n",
      " 24  Windspeed    19735 non-null  float64\n",
      " 25  Visibility   19735 non-null  float64\n",
      " 26  Tdewpoint    19735 non-null  float64\n",
      " 27  rv1          19735 non-null  float64\n",
      " 28  rv2          19735 non-null  float64\n",
      "dtypes: float64(26), int64(2), object(1)\n",
      "memory usage: 4.4+ MB\n"
     ]
    }
   ],
   "source": [
    "energy_data.info()"
   ]
  },
  {
   "cell_type": "code",
   "execution_count": 197,
   "metadata": {},
   "outputs": [
    {
     "data": {
      "text/plain": [
       "0.0    14263\n",
       "1.0     5472\n",
       "Name: date, dtype: int64"
      ]
     },
     "execution_count": 197,
     "metadata": {},
     "output_type": "execute_result"
    }
   ],
   "source": [
    "energy_data['date'] = ((pd.to_datetime(energy_data['date']).dt.dayofweek)// 5 == 1).astype(float)\n",
    "\n",
    "energy_data['date'].value_counts()"
   ]
  },
  {
   "cell_type": "code",
   "execution_count": 198,
   "metadata": {},
   "outputs": [
    {
     "name": "stdout",
     "output_type": "stream",
     "text": [
      "<class 'pandas.core.frame.DataFrame'>\n",
      "RangeIndex: 19735 entries, 0 to 19734\n",
      "Data columns (total 29 columns):\n",
      " #   Column       Non-Null Count  Dtype  \n",
      "---  ------       --------------  -----  \n",
      " 0   date         19735 non-null  float64\n",
      " 1   Appliances   19735 non-null  int64  \n",
      " 2   lights       19735 non-null  int64  \n",
      " 3   T1           19735 non-null  float64\n",
      " 4   RH_1         19735 non-null  float64\n",
      " 5   T2           19735 non-null  float64\n",
      " 6   RH_2         19735 non-null  float64\n",
      " 7   T3           19735 non-null  float64\n",
      " 8   RH_3         19735 non-null  float64\n",
      " 9   T4           19735 non-null  float64\n",
      " 10  RH_4         19735 non-null  float64\n",
      " 11  T5           19735 non-null  float64\n",
      " 12  RH_5         19735 non-null  float64\n",
      " 13  T6           19735 non-null  float64\n",
      " 14  RH_6         19735 non-null  float64\n",
      " 15  T7           19735 non-null  float64\n",
      " 16  RH_7         19735 non-null  float64\n",
      " 17  T8           19735 non-null  float64\n",
      " 18  RH_8         19735 non-null  float64\n",
      " 19  T9           19735 non-null  float64\n",
      " 20  RH_9         19735 non-null  float64\n",
      " 21  T_out        19735 non-null  float64\n",
      " 22  Press_mm_hg  19735 non-null  float64\n",
      " 23  RH_out       19735 non-null  float64\n",
      " 24  Windspeed    19735 non-null  float64\n",
      " 25  Visibility   19735 non-null  float64\n",
      " 26  Tdewpoint    19735 non-null  float64\n",
      " 27  rv1          19735 non-null  float64\n",
      " 28  rv2          19735 non-null  float64\n",
      "dtypes: float64(27), int64(2)\n",
      "memory usage: 4.4 MB\n"
     ]
    }
   ],
   "source": [
    "energy_data.info()"
   ]
  },
  {
   "cell_type": "code",
   "execution_count": null,
   "metadata": {},
   "outputs": [],
   "source": []
  },
  {
   "cell_type": "markdown",
   "metadata": {},
   "source": [
    "# METHOD 1"
   ]
  },
  {
   "cell_type": "code",
   "execution_count": 199,
   "metadata": {},
   "outputs": [
    {
     "data": {
      "text/html": [
       "<div>\n",
       "<style scoped>\n",
       "    .dataframe tbody tr th:only-of-type {\n",
       "        vertical-align: middle;\n",
       "    }\n",
       "\n",
       "    .dataframe tbody tr th {\n",
       "        vertical-align: top;\n",
       "    }\n",
       "\n",
       "    .dataframe thead th {\n",
       "        text-align: right;\n",
       "    }\n",
       "</style>\n",
       "<table border=\"1\" class=\"dataframe\">\n",
       "  <thead>\n",
       "    <tr style=\"text-align: right;\">\n",
       "      <th></th>\n",
       "      <th>date</th>\n",
       "      <th>Appliances</th>\n",
       "      <th>lights</th>\n",
       "      <th>T1</th>\n",
       "      <th>RH_1</th>\n",
       "      <th>T2</th>\n",
       "      <th>RH_2</th>\n",
       "      <th>T3</th>\n",
       "      <th>RH_3</th>\n",
       "      <th>T4</th>\n",
       "      <th>...</th>\n",
       "      <th>T9</th>\n",
       "      <th>RH_9</th>\n",
       "      <th>T_out</th>\n",
       "      <th>Press_mm_hg</th>\n",
       "      <th>RH_out</th>\n",
       "      <th>Windspeed</th>\n",
       "      <th>Visibility</th>\n",
       "      <th>Tdewpoint</th>\n",
       "      <th>rv1</th>\n",
       "      <th>rv2</th>\n",
       "    </tr>\n",
       "  </thead>\n",
       "  <tbody>\n",
       "    <tr>\n",
       "      <th>count</th>\n",
       "      <td>19735.000000</td>\n",
       "      <td>19735.000000</td>\n",
       "      <td>19735.000000</td>\n",
       "      <td>19735.000000</td>\n",
       "      <td>19735.000000</td>\n",
       "      <td>19735.000000</td>\n",
       "      <td>19735.000000</td>\n",
       "      <td>19735.000000</td>\n",
       "      <td>19735.000000</td>\n",
       "      <td>19735.000000</td>\n",
       "      <td>...</td>\n",
       "      <td>19735.000000</td>\n",
       "      <td>19735.000000</td>\n",
       "      <td>19735.000000</td>\n",
       "      <td>19735.000000</td>\n",
       "      <td>19735.000000</td>\n",
       "      <td>19735.000000</td>\n",
       "      <td>19735.000000</td>\n",
       "      <td>19735.000000</td>\n",
       "      <td>19735.000000</td>\n",
       "      <td>19735.000000</td>\n",
       "    </tr>\n",
       "    <tr>\n",
       "      <th>mean</th>\n",
       "      <td>0.277274</td>\n",
       "      <td>97.694958</td>\n",
       "      <td>3.801875</td>\n",
       "      <td>21.686571</td>\n",
       "      <td>40.259739</td>\n",
       "      <td>20.341219</td>\n",
       "      <td>40.420420</td>\n",
       "      <td>22.267611</td>\n",
       "      <td>39.242500</td>\n",
       "      <td>20.855335</td>\n",
       "      <td>...</td>\n",
       "      <td>19.485828</td>\n",
       "      <td>41.552401</td>\n",
       "      <td>7.411665</td>\n",
       "      <td>755.522602</td>\n",
       "      <td>79.750418</td>\n",
       "      <td>4.039752</td>\n",
       "      <td>38.330834</td>\n",
       "      <td>3.760707</td>\n",
       "      <td>24.988033</td>\n",
       "      <td>24.988033</td>\n",
       "    </tr>\n",
       "    <tr>\n",
       "      <th>std</th>\n",
       "      <td>0.447664</td>\n",
       "      <td>102.524891</td>\n",
       "      <td>7.935988</td>\n",
       "      <td>1.606066</td>\n",
       "      <td>3.979299</td>\n",
       "      <td>2.192974</td>\n",
       "      <td>4.069813</td>\n",
       "      <td>2.006111</td>\n",
       "      <td>3.254576</td>\n",
       "      <td>2.042884</td>\n",
       "      <td>...</td>\n",
       "      <td>2.014712</td>\n",
       "      <td>4.151497</td>\n",
       "      <td>5.317409</td>\n",
       "      <td>7.399441</td>\n",
       "      <td>14.901088</td>\n",
       "      <td>2.451221</td>\n",
       "      <td>11.794719</td>\n",
       "      <td>4.194648</td>\n",
       "      <td>14.496634</td>\n",
       "      <td>14.496634</td>\n",
       "    </tr>\n",
       "    <tr>\n",
       "      <th>min</th>\n",
       "      <td>0.000000</td>\n",
       "      <td>10.000000</td>\n",
       "      <td>0.000000</td>\n",
       "      <td>16.790000</td>\n",
       "      <td>27.023333</td>\n",
       "      <td>16.100000</td>\n",
       "      <td>20.463333</td>\n",
       "      <td>17.200000</td>\n",
       "      <td>28.766667</td>\n",
       "      <td>15.100000</td>\n",
       "      <td>...</td>\n",
       "      <td>14.890000</td>\n",
       "      <td>29.166667</td>\n",
       "      <td>-5.000000</td>\n",
       "      <td>729.300000</td>\n",
       "      <td>24.000000</td>\n",
       "      <td>0.000000</td>\n",
       "      <td>1.000000</td>\n",
       "      <td>-6.600000</td>\n",
       "      <td>0.005322</td>\n",
       "      <td>0.005322</td>\n",
       "    </tr>\n",
       "    <tr>\n",
       "      <th>25%</th>\n",
       "      <td>0.000000</td>\n",
       "      <td>50.000000</td>\n",
       "      <td>0.000000</td>\n",
       "      <td>20.760000</td>\n",
       "      <td>37.333333</td>\n",
       "      <td>18.790000</td>\n",
       "      <td>37.900000</td>\n",
       "      <td>20.790000</td>\n",
       "      <td>36.900000</td>\n",
       "      <td>19.530000</td>\n",
       "      <td>...</td>\n",
       "      <td>18.000000</td>\n",
       "      <td>38.500000</td>\n",
       "      <td>3.666667</td>\n",
       "      <td>750.933333</td>\n",
       "      <td>70.333333</td>\n",
       "      <td>2.000000</td>\n",
       "      <td>29.000000</td>\n",
       "      <td>0.900000</td>\n",
       "      <td>12.497889</td>\n",
       "      <td>12.497889</td>\n",
       "    </tr>\n",
       "    <tr>\n",
       "      <th>50%</th>\n",
       "      <td>0.000000</td>\n",
       "      <td>60.000000</td>\n",
       "      <td>0.000000</td>\n",
       "      <td>21.600000</td>\n",
       "      <td>39.656667</td>\n",
       "      <td>20.000000</td>\n",
       "      <td>40.500000</td>\n",
       "      <td>22.100000</td>\n",
       "      <td>38.530000</td>\n",
       "      <td>20.666667</td>\n",
       "      <td>...</td>\n",
       "      <td>19.390000</td>\n",
       "      <td>40.900000</td>\n",
       "      <td>6.916667</td>\n",
       "      <td>756.100000</td>\n",
       "      <td>83.666667</td>\n",
       "      <td>3.666667</td>\n",
       "      <td>40.000000</td>\n",
       "      <td>3.433333</td>\n",
       "      <td>24.897653</td>\n",
       "      <td>24.897653</td>\n",
       "    </tr>\n",
       "    <tr>\n",
       "      <th>75%</th>\n",
       "      <td>1.000000</td>\n",
       "      <td>100.000000</td>\n",
       "      <td>0.000000</td>\n",
       "      <td>22.600000</td>\n",
       "      <td>43.066667</td>\n",
       "      <td>21.500000</td>\n",
       "      <td>43.260000</td>\n",
       "      <td>23.290000</td>\n",
       "      <td>41.760000</td>\n",
       "      <td>22.100000</td>\n",
       "      <td>...</td>\n",
       "      <td>20.600000</td>\n",
       "      <td>44.338095</td>\n",
       "      <td>10.408333</td>\n",
       "      <td>760.933333</td>\n",
       "      <td>91.666667</td>\n",
       "      <td>5.500000</td>\n",
       "      <td>40.000000</td>\n",
       "      <td>6.566667</td>\n",
       "      <td>37.583769</td>\n",
       "      <td>37.583769</td>\n",
       "    </tr>\n",
       "    <tr>\n",
       "      <th>max</th>\n",
       "      <td>1.000000</td>\n",
       "      <td>1080.000000</td>\n",
       "      <td>70.000000</td>\n",
       "      <td>26.260000</td>\n",
       "      <td>63.360000</td>\n",
       "      <td>29.856667</td>\n",
       "      <td>56.026667</td>\n",
       "      <td>29.236000</td>\n",
       "      <td>50.163333</td>\n",
       "      <td>26.200000</td>\n",
       "      <td>...</td>\n",
       "      <td>24.500000</td>\n",
       "      <td>53.326667</td>\n",
       "      <td>26.100000</td>\n",
       "      <td>772.300000</td>\n",
       "      <td>100.000000</td>\n",
       "      <td>14.000000</td>\n",
       "      <td>66.000000</td>\n",
       "      <td>15.500000</td>\n",
       "      <td>49.996530</td>\n",
       "      <td>49.996530</td>\n",
       "    </tr>\n",
       "  </tbody>\n",
       "</table>\n",
       "<p>8 rows × 29 columns</p>\n",
       "</div>"
      ],
      "text/plain": [
       "               date    Appliances        lights            T1          RH_1  \\\n",
       "count  19735.000000  19735.000000  19735.000000  19735.000000  19735.000000   \n",
       "mean       0.277274     97.694958      3.801875     21.686571     40.259739   \n",
       "std        0.447664    102.524891      7.935988      1.606066      3.979299   \n",
       "min        0.000000     10.000000      0.000000     16.790000     27.023333   \n",
       "25%        0.000000     50.000000      0.000000     20.760000     37.333333   \n",
       "50%        0.000000     60.000000      0.000000     21.600000     39.656667   \n",
       "75%        1.000000    100.000000      0.000000     22.600000     43.066667   \n",
       "max        1.000000   1080.000000     70.000000     26.260000     63.360000   \n",
       "\n",
       "                 T2          RH_2            T3          RH_3            T4  \\\n",
       "count  19735.000000  19735.000000  19735.000000  19735.000000  19735.000000   \n",
       "mean      20.341219     40.420420     22.267611     39.242500     20.855335   \n",
       "std        2.192974      4.069813      2.006111      3.254576      2.042884   \n",
       "min       16.100000     20.463333     17.200000     28.766667     15.100000   \n",
       "25%       18.790000     37.900000     20.790000     36.900000     19.530000   \n",
       "50%       20.000000     40.500000     22.100000     38.530000     20.666667   \n",
       "75%       21.500000     43.260000     23.290000     41.760000     22.100000   \n",
       "max       29.856667     56.026667     29.236000     50.163333     26.200000   \n",
       "\n",
       "       ...            T9          RH_9         T_out   Press_mm_hg  \\\n",
       "count  ...  19735.000000  19735.000000  19735.000000  19735.000000   \n",
       "mean   ...     19.485828     41.552401      7.411665    755.522602   \n",
       "std    ...      2.014712      4.151497      5.317409      7.399441   \n",
       "min    ...     14.890000     29.166667     -5.000000    729.300000   \n",
       "25%    ...     18.000000     38.500000      3.666667    750.933333   \n",
       "50%    ...     19.390000     40.900000      6.916667    756.100000   \n",
       "75%    ...     20.600000     44.338095     10.408333    760.933333   \n",
       "max    ...     24.500000     53.326667     26.100000    772.300000   \n",
       "\n",
       "             RH_out     Windspeed    Visibility     Tdewpoint           rv1  \\\n",
       "count  19735.000000  19735.000000  19735.000000  19735.000000  19735.000000   \n",
       "mean      79.750418      4.039752     38.330834      3.760707     24.988033   \n",
       "std       14.901088      2.451221     11.794719      4.194648     14.496634   \n",
       "min       24.000000      0.000000      1.000000     -6.600000      0.005322   \n",
       "25%       70.333333      2.000000     29.000000      0.900000     12.497889   \n",
       "50%       83.666667      3.666667     40.000000      3.433333     24.897653   \n",
       "75%       91.666667      5.500000     40.000000      6.566667     37.583769   \n",
       "max      100.000000     14.000000     66.000000     15.500000     49.996530   \n",
       "\n",
       "                rv2  \n",
       "count  19735.000000  \n",
       "mean      24.988033  \n",
       "std       14.496634  \n",
       "min        0.005322  \n",
       "25%       12.497889  \n",
       "50%       24.897653  \n",
       "75%       37.583769  \n",
       "max       49.996530  \n",
       "\n",
       "[8 rows x 29 columns]"
      ]
     },
     "execution_count": 199,
     "metadata": {},
     "output_type": "execute_result"
    }
   ],
   "source": [
    "energy_data.describe()"
   ]
  },
  {
   "cell_type": "code",
   "execution_count": 289,
   "metadata": {},
   "outputs": [],
   "source": [
    "from sklearn.preprocessing import MinMaxScaler\n",
    "scaler = MinMaxScaler()\n",
    "normalised_df = pd.DataFrame(scaler.fit_transform(energy_data), columns=energy_data.columns)\n",
    "feature_var = normalised_df.drop(columns=['date', 'lights','Appliances'])\n",
    "target_var = normalised_df['Appliances']\n",
    "from sklearn.model_selection import train_test_split\n",
    "x_train,x_test,y_train,y_test=train_test_split(feature_var,target_var, test_size=0.3 ,random_state=42)\n",
    "\n"
   ]
  },
  {
   "cell_type": "code",
   "execution_count": 231,
   "metadata": {},
   "outputs": [
    {
     "data": {
      "text/html": [
       "<div>\n",
       "<style scoped>\n",
       "    .dataframe tbody tr th:only-of-type {\n",
       "        vertical-align: middle;\n",
       "    }\n",
       "\n",
       "    .dataframe tbody tr th {\n",
       "        vertical-align: top;\n",
       "    }\n",
       "\n",
       "    .dataframe thead th {\n",
       "        text-align: right;\n",
       "    }\n",
       "</style>\n",
       "<table border=\"1\" class=\"dataframe\">\n",
       "  <thead>\n",
       "    <tr style=\"text-align: right;\">\n",
       "      <th></th>\n",
       "      <th>T1</th>\n",
       "      <th>RH_1</th>\n",
       "      <th>T2</th>\n",
       "      <th>RH_2</th>\n",
       "      <th>T3</th>\n",
       "      <th>RH_3</th>\n",
       "      <th>T4</th>\n",
       "      <th>RH_4</th>\n",
       "      <th>T5</th>\n",
       "      <th>RH_5</th>\n",
       "      <th>...</th>\n",
       "      <th>T9</th>\n",
       "      <th>RH_9</th>\n",
       "      <th>T_out</th>\n",
       "      <th>Press_mm_hg</th>\n",
       "      <th>RH_out</th>\n",
       "      <th>Windspeed</th>\n",
       "      <th>Visibility</th>\n",
       "      <th>Tdewpoint</th>\n",
       "      <th>rv1</th>\n",
       "      <th>rv2</th>\n",
       "    </tr>\n",
       "  </thead>\n",
       "  <tbody>\n",
       "    <tr>\n",
       "      <th>count</th>\n",
       "      <td>13814.000000</td>\n",
       "      <td>13814.000000</td>\n",
       "      <td>13814.000000</td>\n",
       "      <td>13814.000000</td>\n",
       "      <td>13814.000000</td>\n",
       "      <td>13814.000000</td>\n",
       "      <td>13814.000000</td>\n",
       "      <td>13814.000000</td>\n",
       "      <td>13814.000000</td>\n",
       "      <td>13814.000000</td>\n",
       "      <td>...</td>\n",
       "      <td>13814.000000</td>\n",
       "      <td>13814.000000</td>\n",
       "      <td>13814.000000</td>\n",
       "      <td>13814.000000</td>\n",
       "      <td>13814.000000</td>\n",
       "      <td>13814.000000</td>\n",
       "      <td>13814.000000</td>\n",
       "      <td>13814.000000</td>\n",
       "      <td>13814.000000</td>\n",
       "      <td>13814.000000</td>\n",
       "    </tr>\n",
       "    <tr>\n",
       "      <th>mean</th>\n",
       "      <td>0.517082</td>\n",
       "      <td>0.364469</td>\n",
       "      <td>0.308252</td>\n",
       "      <td>0.561569</td>\n",
       "      <td>0.420907</td>\n",
       "      <td>0.489892</td>\n",
       "      <td>0.517849</td>\n",
       "      <td>0.485990</td>\n",
       "      <td>0.407499</td>\n",
       "      <td>0.317816</td>\n",
       "      <td>...</td>\n",
       "      <td>0.478366</td>\n",
       "      <td>0.513476</td>\n",
       "      <td>0.398946</td>\n",
       "      <td>0.610243</td>\n",
       "      <td>0.734512</td>\n",
       "      <td>0.288130</td>\n",
       "      <td>0.574293</td>\n",
       "      <td>0.469241</td>\n",
       "      <td>0.500835</td>\n",
       "      <td>0.500835</td>\n",
       "    </tr>\n",
       "    <tr>\n",
       "      <th>std</th>\n",
       "      <td>0.169932</td>\n",
       "      <td>0.109196</td>\n",
       "      <td>0.159527</td>\n",
       "      <td>0.114502</td>\n",
       "      <td>0.166506</td>\n",
       "      <td>0.151954</td>\n",
       "      <td>0.184252</td>\n",
       "      <td>0.184857</td>\n",
       "      <td>0.176521</td>\n",
       "      <td>0.135747</td>\n",
       "      <td>...</td>\n",
       "      <td>0.210115</td>\n",
       "      <td>0.171973</td>\n",
       "      <td>0.171186</td>\n",
       "      <td>0.171314</td>\n",
       "      <td>0.196124</td>\n",
       "      <td>0.174402</td>\n",
       "      <td>0.182236</td>\n",
       "      <td>0.190095</td>\n",
       "      <td>0.290283</td>\n",
       "      <td>0.290283</td>\n",
       "    </tr>\n",
       "    <tr>\n",
       "      <th>min</th>\n",
       "      <td>0.000000</td>\n",
       "      <td>0.000000</td>\n",
       "      <td>0.000000</td>\n",
       "      <td>0.003749</td>\n",
       "      <td>0.000000</td>\n",
       "      <td>0.000000</td>\n",
       "      <td>0.000000</td>\n",
       "      <td>0.032620</td>\n",
       "      <td>0.000000</td>\n",
       "      <td>0.005288</td>\n",
       "      <td>...</td>\n",
       "      <td>0.000000</td>\n",
       "      <td>0.000000</td>\n",
       "      <td>0.000000</td>\n",
       "      <td>0.000000</td>\n",
       "      <td>0.000000</td>\n",
       "      <td>0.000000</td>\n",
       "      <td>0.000000</td>\n",
       "      <td>0.000000</td>\n",
       "      <td>0.000164</td>\n",
       "      <td>0.000164</td>\n",
       "    </tr>\n",
       "    <tr>\n",
       "      <th>25%</th>\n",
       "      <td>0.419219</td>\n",
       "      <td>0.284561</td>\n",
       "      <td>0.195542</td>\n",
       "      <td>0.490299</td>\n",
       "      <td>0.298272</td>\n",
       "      <td>0.380122</td>\n",
       "      <td>0.399399</td>\n",
       "      <td>0.337825</td>\n",
       "      <td>0.282848</td>\n",
       "      <td>0.234701</td>\n",
       "      <td>...</td>\n",
       "      <td>0.323621</td>\n",
       "      <td>0.387555</td>\n",
       "      <td>0.277599</td>\n",
       "      <td>0.502713</td>\n",
       "      <td>0.609649</td>\n",
       "      <td>0.142857</td>\n",
       "      <td>0.430769</td>\n",
       "      <td>0.339367</td>\n",
       "      <td>0.249367</td>\n",
       "      <td>0.249367</td>\n",
       "    </tr>\n",
       "    <tr>\n",
       "      <th>50%</th>\n",
       "      <td>0.507920</td>\n",
       "      <td>0.347858</td>\n",
       "      <td>0.283499</td>\n",
       "      <td>0.563408</td>\n",
       "      <td>0.407112</td>\n",
       "      <td>0.457704</td>\n",
       "      <td>0.495495</td>\n",
       "      <td>0.461090</td>\n",
       "      <td>0.387960</td>\n",
       "      <td>0.289378</td>\n",
       "      <td>...</td>\n",
       "      <td>0.468262</td>\n",
       "      <td>0.486893</td>\n",
       "      <td>0.382637</td>\n",
       "      <td>0.623256</td>\n",
       "      <td>0.789474</td>\n",
       "      <td>0.261905</td>\n",
       "      <td>0.600000</td>\n",
       "      <td>0.454751</td>\n",
       "      <td>0.499397</td>\n",
       "      <td>0.499397</td>\n",
       "    </tr>\n",
       "    <tr>\n",
       "      <th>75%</th>\n",
       "      <td>0.613516</td>\n",
       "      <td>0.442024</td>\n",
       "      <td>0.392537</td>\n",
       "      <td>0.641860</td>\n",
       "      <td>0.505982</td>\n",
       "      <td>0.607571</td>\n",
       "      <td>0.630631</td>\n",
       "      <td>0.619007</td>\n",
       "      <td>0.503583</td>\n",
       "      <td>0.358868</td>\n",
       "      <td>...</td>\n",
       "      <td>0.594173</td>\n",
       "      <td>0.629001</td>\n",
       "      <td>0.495177</td>\n",
       "      <td>0.736047</td>\n",
       "      <td>0.890351</td>\n",
       "      <td>0.392857</td>\n",
       "      <td>0.600000</td>\n",
       "      <td>0.597285</td>\n",
       "      <td>0.753305</td>\n",
       "      <td>0.753305</td>\n",
       "    </tr>\n",
       "    <tr>\n",
       "      <th>max</th>\n",
       "      <td>1.000000</td>\n",
       "      <td>0.836620</td>\n",
       "      <td>1.000000</td>\n",
       "      <td>0.964570</td>\n",
       "      <td>1.000000</td>\n",
       "      <td>1.000000</td>\n",
       "      <td>1.000000</td>\n",
       "      <td>1.000000</td>\n",
       "      <td>1.000000</td>\n",
       "      <td>1.000000</td>\n",
       "      <td>...</td>\n",
       "      <td>1.000000</td>\n",
       "      <td>1.000000</td>\n",
       "      <td>1.000000</td>\n",
       "      <td>0.999612</td>\n",
       "      <td>1.000000</td>\n",
       "      <td>1.000000</td>\n",
       "      <td>1.000000</td>\n",
       "      <td>0.995475</td>\n",
       "      <td>1.000000</td>\n",
       "      <td>1.000000</td>\n",
       "    </tr>\n",
       "  </tbody>\n",
       "</table>\n",
       "<p>8 rows × 26 columns</p>\n",
       "</div>"
      ],
      "text/plain": [
       "                 T1          RH_1            T2          RH_2            T3  \\\n",
       "count  13814.000000  13814.000000  13814.000000  13814.000000  13814.000000   \n",
       "mean       0.517082      0.364469      0.308252      0.561569      0.420907   \n",
       "std        0.169932      0.109196      0.159527      0.114502      0.166506   \n",
       "min        0.000000      0.000000      0.000000      0.003749      0.000000   \n",
       "25%        0.419219      0.284561      0.195542      0.490299      0.298272   \n",
       "50%        0.507920      0.347858      0.283499      0.563408      0.407112   \n",
       "75%        0.613516      0.442024      0.392537      0.641860      0.505982   \n",
       "max        1.000000      0.836620      1.000000      0.964570      1.000000   \n",
       "\n",
       "               RH_3            T4          RH_4            T5          RH_5  \\\n",
       "count  13814.000000  13814.000000  13814.000000  13814.000000  13814.000000   \n",
       "mean       0.489892      0.517849      0.485990      0.407499      0.317816   \n",
       "std        0.151954      0.184252      0.184857      0.176521      0.135747   \n",
       "min        0.000000      0.000000      0.032620      0.000000      0.005288   \n",
       "25%        0.380122      0.399399      0.337825      0.282848      0.234701   \n",
       "50%        0.457704      0.495495      0.461090      0.387960      0.289378   \n",
       "75%        0.607571      0.630631      0.619007      0.503583      0.358868   \n",
       "max        1.000000      1.000000      1.000000      1.000000      1.000000   \n",
       "\n",
       "       ...            T9          RH_9         T_out   Press_mm_hg  \\\n",
       "count  ...  13814.000000  13814.000000  13814.000000  13814.000000   \n",
       "mean   ...      0.478366      0.513476      0.398946      0.610243   \n",
       "std    ...      0.210115      0.171973      0.171186      0.171314   \n",
       "min    ...      0.000000      0.000000      0.000000      0.000000   \n",
       "25%    ...      0.323621      0.387555      0.277599      0.502713   \n",
       "50%    ...      0.468262      0.486893      0.382637      0.623256   \n",
       "75%    ...      0.594173      0.629001      0.495177      0.736047   \n",
       "max    ...      1.000000      1.000000      1.000000      0.999612   \n",
       "\n",
       "             RH_out     Windspeed    Visibility     Tdewpoint           rv1  \\\n",
       "count  13814.000000  13814.000000  13814.000000  13814.000000  13814.000000   \n",
       "mean       0.734512      0.288130      0.574293      0.469241      0.500835   \n",
       "std        0.196124      0.174402      0.182236      0.190095      0.290283   \n",
       "min        0.000000      0.000000      0.000000      0.000000      0.000164   \n",
       "25%        0.609649      0.142857      0.430769      0.339367      0.249367   \n",
       "50%        0.789474      0.261905      0.600000      0.454751      0.499397   \n",
       "75%        0.890351      0.392857      0.600000      0.597285      0.753305   \n",
       "max        1.000000      1.000000      1.000000      0.995475      1.000000   \n",
       "\n",
       "                rv2  \n",
       "count  13814.000000  \n",
       "mean       0.500835  \n",
       "std        0.290283  \n",
       "min        0.000164  \n",
       "25%        0.249367  \n",
       "50%        0.499397  \n",
       "75%        0.753305  \n",
       "max        1.000000  \n",
       "\n",
       "[8 rows x 26 columns]"
      ]
     },
     "execution_count": 231,
     "metadata": {},
     "output_type": "execute_result"
    }
   ],
   "source": [
    "x_train.describe()"
   ]
  },
  {
   "cell_type": "code",
   "execution_count": 232,
   "metadata": {},
   "outputs": [
    {
     "data": {
      "text/plain": [
       "0.05"
      ]
     },
     "execution_count": 232,
     "metadata": {},
     "output_type": "execute_result"
    }
   ],
   "source": [
    "from sklearn.linear_model import LinearRegression\n",
    "linear_model=LinearRegression()\n",
    "linear_model.fit(x_train,y_train)\n",
    "pred_values=linear_model.predict(x_test)\n",
    "\n",
    "from sklearn.metrics import mean_absolute_error\n",
    "mae=mean_absolute_error(y_test,pred_values)\n",
    "round(mae,3)"
   ]
  },
  {
   "cell_type": "code",
   "execution_count": 233,
   "metadata": {},
   "outputs": [
    {
     "data": {
      "text/plain": [
       "array([0.03321698, 0.24412523, 0.03406852, ..., 0.06841375, 0.10031112,\n",
       "       0.05725617])"
      ]
     },
     "execution_count": 233,
     "metadata": {},
     "output_type": "execute_result"
    }
   ],
   "source": [
    "from sklearn.linear_model import LinearRegression\n",
    "linear_model=LinearRegression()\n",
    "linear_model.fit(x_train,y_train)\n",
    "pred_values=linear_model.predict(x_test)\n",
    "pred_values"
   ]
  },
  {
   "cell_type": "markdown",
   "metadata": {},
   "source": [
    "Residual sum of squared (variance)"
   ]
  },
  {
   "cell_type": "code",
   "execution_count": 240,
   "metadata": {},
   "outputs": [
    {
     "data": {
      "text/plain": [
       "42.334"
      ]
     },
     "execution_count": 240,
     "metadata": {},
     "output_type": "execute_result"
    }
   ],
   "source": [
    "import numpy as np\n",
    "rss=np.sum(np.square(y_test - pred_values))\n",
    "round(rss,3)"
   ]
  },
  {
   "cell_type": "markdown",
   "metadata": {},
   "source": [
    "Root mean squared error"
   ]
  },
  {
   "cell_type": "code",
   "execution_count": 235,
   "metadata": {},
   "outputs": [
    {
     "data": {
      "text/plain": [
       "0.088"
      ]
     },
     "execution_count": 235,
     "metadata": {},
     "output_type": "execute_result"
    }
   ],
   "source": [
    "from sklearn.metrics import mean_squared_error\n",
    "rmse=np.sqrt(mean_squared_error(y_test,pred_values))\n",
    "round(rmse, 3)"
   ]
  },
  {
   "cell_type": "markdown",
   "metadata": {},
   "source": [
    "r-squared"
   ]
  },
  {
   "cell_type": "code",
   "execution_count": 238,
   "metadata": {},
   "outputs": [
    {
     "data": {
      "text/plain": [
       "0.149"
      ]
     },
     "execution_count": 238,
     "metadata": {},
     "output_type": "execute_result"
    }
   ],
   "source": [
    "from sklearn.metrics import r2_score\n",
    "r2_score=r2_score(y_test,pred_values)\n",
    "round(r2_score,3)"
   ]
  },
  {
   "cell_type": "code",
   "execution_count": 221,
   "metadata": {},
   "outputs": [],
   "source": [
    "col_temp=['T1','T2','T3','T4','T5','T6','T7','T8','T9']\n",
    "col_hum=[\"RH_1\",\"RH_2\",\"RH_3\",\"RH_4\",\"RH_5\",\"RH_6\",\"RH_7\",\"RH_8\",\"RH_9\"]\n",
    "col_weather = [\"T_out\", \"Tdewpoint\",\"RH_out\",\"Press_mm_hg\",\"Windspeed\",\"Visibility\"] \n",
    "col_light = [\"lights\"]\n",
    "col_randoms = [\"rv1\", \"rv2\"]\n",
    "col_target = [\"Appliances\"]\n",
    "feature_vars = energy_data[col_temp + col_hum + col_weather + col_randoms ]\n",
    "target_vars = energy_data[col_target]\n",
    "\n"
   ]
  },
  {
   "cell_type": "code",
   "execution_count": 243,
   "metadata": {},
   "outputs": [
    {
     "name": "stdout",
     "output_type": "stream",
     "text": [
      "Percentage of the appliance consumption is less than 200 Wh\n",
      "Appliances    90.291361\n",
      "dtype: float64\n"
     ]
    }
   ],
   "source": [
    "print('Percentage of the appliance consumption is less than 200 Wh')\n",
    "print(((target_vars[target_vars <= 200].count()) / (len(target_vars)))*100 )"
   ]
  },
  {
   "cell_type": "code",
   "execution_count": 241,
   "metadata": {},
   "outputs": [
    {
     "data": {
      "text/plain": [
       "Ridge(alpha=0.5)"
      ]
     },
     "execution_count": 241,
     "metadata": {},
     "output_type": "execute_result"
    }
   ],
   "source": [
    "from sklearn.linear_model import Ridge\n",
    "ridge_reg=Ridge(alpha=0.5)\n",
    "ridge_reg.fit(x_train,y_train)"
   ]
  },
  {
   "cell_type": "code",
   "execution_count": 244,
   "metadata": {},
   "outputs": [
    {
     "data": {
      "text/plain": [
       "Lasso(alpha=0.001)"
      ]
     },
     "execution_count": 244,
     "metadata": {},
     "output_type": "execute_result"
    }
   ],
   "source": [
    "from sklearn.linear_model import Lasso\n",
    "lasso_reg=Lasso(alpha=0.001)\n",
    "lasso_reg.fit(x_train,y_train)"
   ]
  },
  {
   "cell_type": "markdown",
   "metadata": {},
   "source": [
    "Effect of regularization"
   ]
  },
  {
   "cell_type": "code",
   "execution_count": 258,
   "metadata": {},
   "outputs": [],
   "source": [
    "def get_weights_df(model,feat,col_name):\n",
    "    weights=pd.Series(model.coef_,feat.columns).sort_values()\n",
    "    weights_df=pd.DataFrame(weights).reset_index()\n",
    "    weights_df.columns =['Features',col_name]\n",
    "    weights_df[col_name].round(3)\n",
    "    return weights_df\n"
   ]
  },
  {
   "cell_type": "code",
   "execution_count": 259,
   "metadata": {},
   "outputs": [],
   "source": [
    "linear_model_weights=get_weights_df(linear_model,x_train,'Linear_Model_Weight')\n",
    "ridge_weights_df= get_weights_df(ridge_reg,x_train,'Ridge_weight')\n",
    "lasso_weights_df=get_weights_df(lasso_reg,x_train,'Lasso_weight')"
   ]
  },
  {
   "cell_type": "code",
   "execution_count": 260,
   "metadata": {},
   "outputs": [],
   "source": [
    "final_weights=pd.merge(linear_model_weights,ridge_weights_df, on='Features')\n",
    "final_weights=pd.merge(final_weights,lasso_weights_df, on='Features')"
   ]
  },
  {
   "cell_type": "code",
   "execution_count": 261,
   "metadata": {},
   "outputs": [
    {
     "data": {
      "text/html": [
       "<div>\n",
       "<style scoped>\n",
       "    .dataframe tbody tr th:only-of-type {\n",
       "        vertical-align: middle;\n",
       "    }\n",
       "\n",
       "    .dataframe tbody tr th {\n",
       "        vertical-align: top;\n",
       "    }\n",
       "\n",
       "    .dataframe thead th {\n",
       "        text-align: right;\n",
       "    }\n",
       "</style>\n",
       "<table border=\"1\" class=\"dataframe\">\n",
       "  <thead>\n",
       "    <tr style=\"text-align: right;\">\n",
       "      <th></th>\n",
       "      <th>Features</th>\n",
       "      <th>Linear_Model_Weight</th>\n",
       "      <th>Ridge_weight</th>\n",
       "      <th>Lasso_weight</th>\n",
       "    </tr>\n",
       "  </thead>\n",
       "  <tbody>\n",
       "    <tr>\n",
       "      <th>0</th>\n",
       "      <td>rv2</td>\n",
       "      <td>-6.347156e+10</td>\n",
       "      <td>0.000743</td>\n",
       "      <td>-0.000000</td>\n",
       "    </tr>\n",
       "    <tr>\n",
       "      <th>1</th>\n",
       "      <td>RH_2</td>\n",
       "      <td>-4.566222e-01</td>\n",
       "      <td>-0.401134</td>\n",
       "      <td>-0.000000</td>\n",
       "    </tr>\n",
       "    <tr>\n",
       "      <th>2</th>\n",
       "      <td>T_out</td>\n",
       "      <td>-3.218423e-01</td>\n",
       "      <td>-0.250765</td>\n",
       "      <td>0.000000</td>\n",
       "    </tr>\n",
       "    <tr>\n",
       "      <th>3</th>\n",
       "      <td>T2</td>\n",
       "      <td>-2.361131e-01</td>\n",
       "      <td>-0.193880</td>\n",
       "      <td>0.000000</td>\n",
       "    </tr>\n",
       "    <tr>\n",
       "      <th>4</th>\n",
       "      <td>T9</td>\n",
       "      <td>-1.899177e-01</td>\n",
       "      <td>-0.188584</td>\n",
       "      <td>-0.000000</td>\n",
       "    </tr>\n",
       "    <tr>\n",
       "      <th>5</th>\n",
       "      <td>RH_8</td>\n",
       "      <td>-1.575747e-01</td>\n",
       "      <td>-0.156596</td>\n",
       "      <td>-0.000110</td>\n",
       "    </tr>\n",
       "    <tr>\n",
       "      <th>6</th>\n",
       "      <td>RH_out</td>\n",
       "      <td>-7.767868e-02</td>\n",
       "      <td>-0.050541</td>\n",
       "      <td>-0.049557</td>\n",
       "    </tr>\n",
       "    <tr>\n",
       "      <th>7</th>\n",
       "      <td>RH_7</td>\n",
       "      <td>-4.462568e-02</td>\n",
       "      <td>-0.046291</td>\n",
       "      <td>-0.000000</td>\n",
       "    </tr>\n",
       "    <tr>\n",
       "      <th>8</th>\n",
       "      <td>RH_9</td>\n",
       "      <td>-3.980029e-02</td>\n",
       "      <td>-0.041701</td>\n",
       "      <td>-0.000000</td>\n",
       "    </tr>\n",
       "    <tr>\n",
       "      <th>9</th>\n",
       "      <td>T5</td>\n",
       "      <td>-1.566246e-02</td>\n",
       "      <td>-0.020727</td>\n",
       "      <td>-0.000000</td>\n",
       "    </tr>\n",
       "    <tr>\n",
       "      <th>10</th>\n",
       "      <td>T1</td>\n",
       "      <td>-3.281051e-03</td>\n",
       "      <td>-0.021549</td>\n",
       "      <td>0.000000</td>\n",
       "    </tr>\n",
       "    <tr>\n",
       "      <th>11</th>\n",
       "      <td>Press_mm_hg</td>\n",
       "      <td>6.826116e-03</td>\n",
       "      <td>0.006516</td>\n",
       "      <td>-0.000000</td>\n",
       "    </tr>\n",
       "    <tr>\n",
       "      <th>12</th>\n",
       "      <td>T7</td>\n",
       "      <td>1.032279e-02</td>\n",
       "      <td>0.010021</td>\n",
       "      <td>-0.000000</td>\n",
       "    </tr>\n",
       "    <tr>\n",
       "      <th>13</th>\n",
       "      <td>Visibility</td>\n",
       "      <td>1.230638e-02</td>\n",
       "      <td>0.012032</td>\n",
       "      <td>0.000000</td>\n",
       "    </tr>\n",
       "    <tr>\n",
       "      <th>14</th>\n",
       "      <td>RH_5</td>\n",
       "      <td>1.599761e-02</td>\n",
       "      <td>0.016176</td>\n",
       "      <td>0.000000</td>\n",
       "    </tr>\n",
       "    <tr>\n",
       "      <th>15</th>\n",
       "      <td>RH_4</td>\n",
       "      <td>2.638746e-02</td>\n",
       "      <td>0.024168</td>\n",
       "      <td>0.000000</td>\n",
       "    </tr>\n",
       "    <tr>\n",
       "      <th>16</th>\n",
       "      <td>T4</td>\n",
       "      <td>2.897013e-02</td>\n",
       "      <td>0.027006</td>\n",
       "      <td>-0.000000</td>\n",
       "    </tr>\n",
       "    <tr>\n",
       "      <th>17</th>\n",
       "      <td>Windspeed</td>\n",
       "      <td>2.916591e-02</td>\n",
       "      <td>0.030463</td>\n",
       "      <td>0.002912</td>\n",
       "    </tr>\n",
       "    <tr>\n",
       "      <th>18</th>\n",
       "      <td>RH_6</td>\n",
       "      <td>3.803986e-02</td>\n",
       "      <td>0.035023</td>\n",
       "      <td>-0.000000</td>\n",
       "    </tr>\n",
       "    <tr>\n",
       "      <th>19</th>\n",
       "      <td>RH_3</td>\n",
       "      <td>9.604517e-02</td>\n",
       "      <td>0.094976</td>\n",
       "      <td>0.000000</td>\n",
       "    </tr>\n",
       "    <tr>\n",
       "      <th>20</th>\n",
       "      <td>T8</td>\n",
       "      <td>1.019718e-01</td>\n",
       "      <td>0.100754</td>\n",
       "      <td>0.000000</td>\n",
       "    </tr>\n",
       "    <tr>\n",
       "      <th>21</th>\n",
       "      <td>Tdewpoint</td>\n",
       "      <td>1.177300e-01</td>\n",
       "      <td>0.076668</td>\n",
       "      <td>0.000000</td>\n",
       "    </tr>\n",
       "    <tr>\n",
       "      <th>22</th>\n",
       "      <td>T6</td>\n",
       "      <td>2.363984e-01</td>\n",
       "      <td>0.213316</td>\n",
       "      <td>0.000000</td>\n",
       "    </tr>\n",
       "    <tr>\n",
       "      <th>23</th>\n",
       "      <td>T3</td>\n",
       "      <td>2.905893e-01</td>\n",
       "      <td>0.287408</td>\n",
       "      <td>0.000000</td>\n",
       "    </tr>\n",
       "    <tr>\n",
       "      <th>24</th>\n",
       "      <td>RH_1</td>\n",
       "      <td>5.535222e-01</td>\n",
       "      <td>0.511932</td>\n",
       "      <td>0.017880</td>\n",
       "    </tr>\n",
       "    <tr>\n",
       "      <th>25</th>\n",
       "      <td>rv1</td>\n",
       "      <td>6.347156e+10</td>\n",
       "      <td>0.000743</td>\n",
       "      <td>-0.000000</td>\n",
       "    </tr>\n",
       "  </tbody>\n",
       "</table>\n",
       "</div>"
      ],
      "text/plain": [
       "       Features  Linear_Model_Weight  Ridge_weight  Lasso_weight\n",
       "0           rv2        -6.347156e+10      0.000743     -0.000000\n",
       "1          RH_2        -4.566222e-01     -0.401134     -0.000000\n",
       "2         T_out        -3.218423e-01     -0.250765      0.000000\n",
       "3            T2        -2.361131e-01     -0.193880      0.000000\n",
       "4            T9        -1.899177e-01     -0.188584     -0.000000\n",
       "5          RH_8        -1.575747e-01     -0.156596     -0.000110\n",
       "6        RH_out        -7.767868e-02     -0.050541     -0.049557\n",
       "7          RH_7        -4.462568e-02     -0.046291     -0.000000\n",
       "8          RH_9        -3.980029e-02     -0.041701     -0.000000\n",
       "9            T5        -1.566246e-02     -0.020727     -0.000000\n",
       "10           T1        -3.281051e-03     -0.021549      0.000000\n",
       "11  Press_mm_hg         6.826116e-03      0.006516     -0.000000\n",
       "12           T7         1.032279e-02      0.010021     -0.000000\n",
       "13   Visibility         1.230638e-02      0.012032      0.000000\n",
       "14         RH_5         1.599761e-02      0.016176      0.000000\n",
       "15         RH_4         2.638746e-02      0.024168      0.000000\n",
       "16           T4         2.897013e-02      0.027006     -0.000000\n",
       "17    Windspeed         2.916591e-02      0.030463      0.002912\n",
       "18         RH_6         3.803986e-02      0.035023     -0.000000\n",
       "19         RH_3         9.604517e-02      0.094976      0.000000\n",
       "20           T8         1.019718e-01      0.100754      0.000000\n",
       "21    Tdewpoint         1.177300e-01      0.076668      0.000000\n",
       "22           T6         2.363984e-01      0.213316      0.000000\n",
       "23           T3         2.905893e-01      0.287408      0.000000\n",
       "24         RH_1         5.535222e-01      0.511932      0.017880\n",
       "25          rv1         6.347156e+10      0.000743     -0.000000"
      ]
     },
     "execution_count": 261,
     "metadata": {},
     "output_type": "execute_result"
    }
   ],
   "source": [
    "final_weights"
   ]
  },
  {
   "cell_type": "code",
   "execution_count": 272,
   "metadata": {},
   "outputs": [
    {
     "data": {
      "image/png": "[encoded data removed]",
      "text/plain": [
       "<Figure size 648x1440 with 30 Axes>"
      ]
     },
     "metadata": {
      "needs_background": "light"
     },
     "output_type": "display_data"
    }
   ],
   "source": [
    "feature_vars.hist(bins = 20 , figsize= (9,20)) ;\n",
    "\n"
   ]
  },
  {
   "cell_type": "code",
   "execution_count": 268,
   "metadata": {},
   "outputs": [
    {
     "data": {
      "image/png": "[encoded data removed]",
      "text/plain": [
       "<Figure size 360x360 with 1 Axes>"
      ]
     },
     "metadata": {
      "needs_background": "light"
     },
     "output_type": "display_data"
    }
   ],
   "source": [
    "f = plt.figure(figsize=(5,5))\n",
    "plt.xlabel('Appliance consumption in Wh')\n",
    "plt.ylabel('Frequency')\n",
    "sns.distplot(target_vars , bins=10 ) ;\n",
    "\n"
   ]
  },
  {
   "cell_type": "code",
   "execution_count": 267,
   "metadata": {},
   "outputs": [
    {
     "data": {
      "image/png": "[encoded data removed]",
      "text/plain": [
       "<Figure size 288x288 with 1 Axes>"
      ]
     },
     "metadata": {
      "needs_background": "light"
     },
     "output_type": "display_data"
    }
   ],
   "source": [
    "target_vars.hist(bins = 20 , figsize= (4,4)) ;"
   ]
  },
  {
   "cell_type": "markdown",
   "metadata": {},
   "source": [
    "# Quiz"
   ]
  },
  {
   "cell_type": "markdown",
   "metadata": {},
   "source": [
    "1)"
   ]
  },
  {
   "cell_type": "code",
   "execution_count": 310,
   "metadata": {},
   "outputs": [],
   "source": [
    "from sklearn.preprocessing import MinMaxScaler\n",
    "scaler = MinMaxScaler()\n",
    "normalised_df = pd.DataFrame(scaler.fit_transform(energy_data), columns=energy_data.columns)\n",
    "inside = normalised_df['T2']\n",
    "outside = normalised_df['T6']\n",
    "from sklearn.model_selection import train_test_split\n",
    "x_train,x_test,y_train,y_test=train_test_split(inside,outside, test_size=0.3 ,random_state=42)\n",
    "\n"
   ]
  },
  {
   "cell_type": "code",
   "execution_count": 312,
   "metadata": {},
   "outputs": [
    {
     "ename": "ValueError",
     "evalue": "Expected 2D array, got 1D array instead:\narray=[0.22534529 0.22534529 0.22534529 ... 0.69265118 0.67705355 0.66617051].\nReshape your data either using array.reshape(-1, 1) if your data has a single feature or array.reshape(1, -1) if it contains a single sample.",
     "output_type": "error",
     "traceback": [
      "\u001b[1;31m---------------------------------------------------------------------------\u001b[0m",
      "\u001b[1;31mValueError\u001b[0m                                Traceback (most recent call last)",
      "\u001b[1;32m<ipython-input-312-7a517d51ad3a>\u001b[0m in \u001b[0;36m<module>\u001b[1;34m\u001b[0m\n\u001b[0;32m      1\u001b[0m \u001b[1;32mfrom\u001b[0m \u001b[0msklearn\u001b[0m\u001b[1;33m.\u001b[0m\u001b[0mlinear_model\u001b[0m \u001b[1;32mimport\u001b[0m \u001b[0mLinearRegression\u001b[0m\u001b[1;33m\u001b[0m\u001b[1;33m\u001b[0m\u001b[0m\n\u001b[0;32m      2\u001b[0m \u001b[0mlinear_model\u001b[0m\u001b[1;33m=\u001b[0m\u001b[0mLinearRegression\u001b[0m\u001b[1;33m(\u001b[0m\u001b[1;33m)\u001b[0m\u001b[1;33m\u001b[0m\u001b[1;33m\u001b[0m\u001b[0m\n\u001b[1;32m----> 3\u001b[1;33m \u001b[0mlinear_model\u001b[0m\u001b[1;33m.\u001b[0m\u001b[0mfit\u001b[0m\u001b[1;33m(\u001b[0m\u001b[0minside\u001b[0m\u001b[1;33m,\u001b[0m\u001b[0moutside\u001b[0m\u001b[1;33m)\u001b[0m\u001b[1;33m\u001b[0m\u001b[1;33m\u001b[0m\u001b[0m\n\u001b[0m\u001b[0;32m      4\u001b[0m \u001b[0mpred_values\u001b[0m\u001b[1;33m=\u001b[0m\u001b[0mlinear_model\u001b[0m\u001b[1;33m.\u001b[0m\u001b[0mpredict\u001b[0m\u001b[1;33m(\u001b[0m\u001b[0mx_test\u001b[0m\u001b[1;33m)\u001b[0m\u001b[1;33m\u001b[0m\u001b[1;33m\u001b[0m\u001b[0m\n\u001b[0;32m      5\u001b[0m \u001b[1;33m\u001b[0m\u001b[0m\n",
      "\u001b[1;32mc:\\users\\hp\\downloads\\python\\lib\\site-packages\\sklearn\\linear_model\\_base.py\u001b[0m in \u001b[0;36mfit\u001b[1;34m(self, X, y, sample_weight)\u001b[0m\n\u001b[0;32m    503\u001b[0m \u001b[1;33m\u001b[0m\u001b[0m\n\u001b[0;32m    504\u001b[0m         \u001b[0mn_jobs_\u001b[0m \u001b[1;33m=\u001b[0m \u001b[0mself\u001b[0m\u001b[1;33m.\u001b[0m\u001b[0mn_jobs\u001b[0m\u001b[1;33m\u001b[0m\u001b[1;33m\u001b[0m\u001b[0m\n\u001b[1;32m--> 505\u001b[1;33m         X, y = self._validate_data(X, y, accept_sparse=['csr', 'csc', 'coo'],\n\u001b[0m\u001b[0;32m    506\u001b[0m                                    y_numeric=True, multi_output=True)\n\u001b[0;32m    507\u001b[0m \u001b[1;33m\u001b[0m\u001b[0m\n",
      "\u001b[1;32mc:\\users\\hp\\downloads\\python\\lib\\site-packages\\sklearn\\base.py\u001b[0m in \u001b[0;36m_validate_data\u001b[1;34m(self, X, y, reset, validate_separately, **check_params)\u001b[0m\n\u001b[0;32m    430\u001b[0m                 \u001b[0my\u001b[0m \u001b[1;33m=\u001b[0m \u001b[0mcheck_array\u001b[0m\u001b[1;33m(\u001b[0m\u001b[0my\u001b[0m\u001b[1;33m,\u001b[0m \u001b[1;33m**\u001b[0m\u001b[0mcheck_y_params\u001b[0m\u001b[1;33m)\u001b[0m\u001b[1;33m\u001b[0m\u001b[1;33m\u001b[0m\u001b[0m\n\u001b[0;32m    431\u001b[0m             \u001b[1;32melse\u001b[0m\u001b[1;33m:\u001b[0m\u001b[1;33m\u001b[0m\u001b[1;33m\u001b[0m\u001b[0m\n\u001b[1;32m--> 432\u001b[1;33m                 \u001b[0mX\u001b[0m\u001b[1;33m,\u001b[0m \u001b[0my\u001b[0m \u001b[1;33m=\u001b[0m \u001b[0mcheck_X_y\u001b[0m\u001b[1;33m(\u001b[0m\u001b[0mX\u001b[0m\u001b[1;33m,\u001b[0m \u001b[0my\u001b[0m\u001b[1;33m,\u001b[0m \u001b[1;33m**\u001b[0m\u001b[0mcheck_params\u001b[0m\u001b[1;33m)\u001b[0m\u001b[1;33m\u001b[0m\u001b[1;33m\u001b[0m\u001b[0m\n\u001b[0m\u001b[0;32m    433\u001b[0m             \u001b[0mout\u001b[0m \u001b[1;33m=\u001b[0m \u001b[0mX\u001b[0m\u001b[1;33m,\u001b[0m \u001b[0my\u001b[0m\u001b[1;33m\u001b[0m\u001b[1;33m\u001b[0m\u001b[0m\n\u001b[0;32m    434\u001b[0m \u001b[1;33m\u001b[0m\u001b[0m\n",
      "\u001b[1;32mc:\\users\\hp\\downloads\\python\\lib\\site-packages\\sklearn\\utils\\validation.py\u001b[0m in \u001b[0;36minner_f\u001b[1;34m(*args, **kwargs)\u001b[0m\n\u001b[0;32m     71\u001b[0m                           FutureWarning)\n\u001b[0;32m     72\u001b[0m         \u001b[0mkwargs\u001b[0m\u001b[1;33m.\u001b[0m\u001b[0mupdate\u001b[0m\u001b[1;33m(\u001b[0m\u001b[1;33m{\u001b[0m\u001b[0mk\u001b[0m\u001b[1;33m:\u001b[0m \u001b[0marg\u001b[0m \u001b[1;32mfor\u001b[0m \u001b[0mk\u001b[0m\u001b[1;33m,\u001b[0m \u001b[0marg\u001b[0m \u001b[1;32min\u001b[0m \u001b[0mzip\u001b[0m\u001b[1;33m(\u001b[0m\u001b[0msig\u001b[0m\u001b[1;33m.\u001b[0m\u001b[0mparameters\u001b[0m\u001b[1;33m,\u001b[0m \u001b[0margs\u001b[0m\u001b[1;33m)\u001b[0m\u001b[1;33m}\u001b[0m\u001b[1;33m)\u001b[0m\u001b[1;33m\u001b[0m\u001b[1;33m\u001b[0m\u001b[0m\n\u001b[1;32m---> 73\u001b[1;33m         \u001b[1;32mreturn\u001b[0m \u001b[0mf\u001b[0m\u001b[1;33m(\u001b[0m\u001b[1;33m**\u001b[0m\u001b[0mkwargs\u001b[0m\u001b[1;33m)\u001b[0m\u001b[1;33m\u001b[0m\u001b[1;33m\u001b[0m\u001b[0m\n\u001b[0m\u001b[0;32m     74\u001b[0m     \u001b[1;32mreturn\u001b[0m \u001b[0minner_f\u001b[0m\u001b[1;33m\u001b[0m\u001b[1;33m\u001b[0m\u001b[0m\n\u001b[0;32m     75\u001b[0m \u001b[1;33m\u001b[0m\u001b[0m\n",
      "\u001b[1;32mc:\\users\\hp\\downloads\\python\\lib\\site-packages\\sklearn\\utils\\validation.py\u001b[0m in \u001b[0;36mcheck_X_y\u001b[1;34m(X, y, accept_sparse, accept_large_sparse, dtype, order, copy, force_all_finite, ensure_2d, allow_nd, multi_output, ensure_min_samples, ensure_min_features, y_numeric, estimator)\u001b[0m\n\u001b[0;32m    794\u001b[0m         \u001b[1;32mraise\u001b[0m \u001b[0mValueError\u001b[0m\u001b[1;33m(\u001b[0m\u001b[1;34m\"y cannot be None\"\u001b[0m\u001b[1;33m)\u001b[0m\u001b[1;33m\u001b[0m\u001b[1;33m\u001b[0m\u001b[0m\n\u001b[0;32m    795\u001b[0m \u001b[1;33m\u001b[0m\u001b[0m\n\u001b[1;32m--> 796\u001b[1;33m     X = check_array(X, accept_sparse=accept_sparse,\n\u001b[0m\u001b[0;32m    797\u001b[0m                     \u001b[0maccept_large_sparse\u001b[0m\u001b[1;33m=\u001b[0m\u001b[0maccept_large_sparse\u001b[0m\u001b[1;33m,\u001b[0m\u001b[1;33m\u001b[0m\u001b[1;33m\u001b[0m\u001b[0m\n\u001b[0;32m    798\u001b[0m                     \u001b[0mdtype\u001b[0m\u001b[1;33m=\u001b[0m\u001b[0mdtype\u001b[0m\u001b[1;33m,\u001b[0m \u001b[0morder\u001b[0m\u001b[1;33m=\u001b[0m\u001b[0morder\u001b[0m\u001b[1;33m,\u001b[0m \u001b[0mcopy\u001b[0m\u001b[1;33m=\u001b[0m\u001b[0mcopy\u001b[0m\u001b[1;33m,\u001b[0m\u001b[1;33m\u001b[0m\u001b[1;33m\u001b[0m\u001b[0m\n",
      "\u001b[1;32mc:\\users\\hp\\downloads\\python\\lib\\site-packages\\sklearn\\utils\\validation.py\u001b[0m in \u001b[0;36minner_f\u001b[1;34m(*args, **kwargs)\u001b[0m\n\u001b[0;32m     71\u001b[0m                           FutureWarning)\n\u001b[0;32m     72\u001b[0m         \u001b[0mkwargs\u001b[0m\u001b[1;33m.\u001b[0m\u001b[0mupdate\u001b[0m\u001b[1;33m(\u001b[0m\u001b[1;33m{\u001b[0m\u001b[0mk\u001b[0m\u001b[1;33m:\u001b[0m \u001b[0marg\u001b[0m \u001b[1;32mfor\u001b[0m \u001b[0mk\u001b[0m\u001b[1;33m,\u001b[0m \u001b[0marg\u001b[0m \u001b[1;32min\u001b[0m \u001b[0mzip\u001b[0m\u001b[1;33m(\u001b[0m\u001b[0msig\u001b[0m\u001b[1;33m.\u001b[0m\u001b[0mparameters\u001b[0m\u001b[1;33m,\u001b[0m \u001b[0margs\u001b[0m\u001b[1;33m)\u001b[0m\u001b[1;33m}\u001b[0m\u001b[1;33m)\u001b[0m\u001b[1;33m\u001b[0m\u001b[1;33m\u001b[0m\u001b[0m\n\u001b[1;32m---> 73\u001b[1;33m         \u001b[1;32mreturn\u001b[0m \u001b[0mf\u001b[0m\u001b[1;33m(\u001b[0m\u001b[1;33m**\u001b[0m\u001b[0mkwargs\u001b[0m\u001b[1;33m)\u001b[0m\u001b[1;33m\u001b[0m\u001b[1;33m\u001b[0m\u001b[0m\n\u001b[0m\u001b[0;32m     74\u001b[0m     \u001b[1;32mreturn\u001b[0m \u001b[0minner_f\u001b[0m\u001b[1;33m\u001b[0m\u001b[1;33m\u001b[0m\u001b[0m\n\u001b[0;32m     75\u001b[0m \u001b[1;33m\u001b[0m\u001b[0m\n",
      "\u001b[1;32mc:\\users\\hp\\downloads\\python\\lib\\site-packages\\sklearn\\utils\\validation.py\u001b[0m in \u001b[0;36mcheck_array\u001b[1;34m(array, accept_sparse, accept_large_sparse, dtype, order, copy, force_all_finite, ensure_2d, allow_nd, ensure_min_samples, ensure_min_features, estimator)\u001b[0m\n\u001b[0;32m    618\u001b[0m             \u001b[1;31m# If input is 1D raise error\u001b[0m\u001b[1;33m\u001b[0m\u001b[1;33m\u001b[0m\u001b[1;33m\u001b[0m\u001b[0m\n\u001b[0;32m    619\u001b[0m             \u001b[1;32mif\u001b[0m \u001b[0marray\u001b[0m\u001b[1;33m.\u001b[0m\u001b[0mndim\u001b[0m \u001b[1;33m==\u001b[0m \u001b[1;36m1\u001b[0m\u001b[1;33m:\u001b[0m\u001b[1;33m\u001b[0m\u001b[1;33m\u001b[0m\u001b[0m\n\u001b[1;32m--> 620\u001b[1;33m                 raise ValueError(\n\u001b[0m\u001b[0;32m    621\u001b[0m                     \u001b[1;34m\"Expected 2D array, got 1D array instead:\\narray={}.\\n\"\u001b[0m\u001b[1;33m\u001b[0m\u001b[1;33m\u001b[0m\u001b[0m\n\u001b[0;32m    622\u001b[0m                     \u001b[1;34m\"Reshape your data either using array.reshape(-1, 1) if \"\u001b[0m\u001b[1;33m\u001b[0m\u001b[1;33m\u001b[0m\u001b[0m\n",
      "\u001b[1;31mValueError\u001b[0m: Expected 2D array, got 1D array instead:\narray=[0.22534529 0.22534529 0.22534529 ... 0.69265118 0.67705355 0.66617051].\nReshape your data either using array.reshape(-1, 1) if your data has a single feature or array.reshape(1, -1) if it contains a single sample."
     ]
    }
   ],
   "source": [
    "from sklearn.linear_model import LinearRegression\n",
    "linear_model=LinearRegression()\n",
    "linear_model.fit(x_train,y_train)\n",
    "pred_values=linear_model.predict(x_test)\n",
    "\n"
   ]
  },
  {
   "cell_type": "code",
   "execution_count": 314,
   "metadata": {},
   "outputs": [
    {
     "data": {
      "text/plain": [
       "-93.83"
      ]
     },
     "execution_count": 314,
     "metadata": {},
     "output_type": "execute_result"
    }
   ],
   "source": [
    "from sklearn.metrics import r2_score\n",
    "r2_score=r2_score(pred_values,y_test)\n",
    "round(r2_score,2)"
   ]
  },
  {
   "cell_type": "markdown",
   "metadata": {},
   "source": [
    "2)train_X = train[feature_vars[.columns]\n",
    "train_y = train[target_vars.columns]"
   ]
  },
  {
   "cell_type": "code",
   "execution_count": 295,
   "metadata": {},
   "outputs": [
    {
     "data": {
      "text/plain": [
       "0.12"
      ]
     },
     "execution_count": 295,
     "metadata": {},
     "output_type": "execute_result"
    }
   ],
   "source": [
    "from sklearn.metrics import mean_absolute_error\n",
    "mae=mean_absolute_error(inside,outside)\n",
    "round(mae,2)"
   ]
  },
  {
   "cell_type": "markdown",
   "metadata": {},
   "source": [
    "3)"
   ]
  },
  {
   "cell_type": "code",
   "execution_count": 305,
   "metadata": {},
   "outputs": [
    {
     "data": {
      "text/plain": [
       "419.55"
      ]
     },
     "execution_count": 305,
     "metadata": {},
     "output_type": "execute_result"
    }
   ],
   "source": [
    "import numpy as np\n",
    "rss=np.sum(np.square(inside - outside))\n",
    "round(rss,2)"
   ]
  },
  {
   "cell_type": "markdown",
   "metadata": {},
   "source": [
    "4)"
   ]
  },
  {
   "cell_type": "code",
   "execution_count": 307,
   "metadata": {},
   "outputs": [
    {
     "data": {
      "text/plain": [
       "0.15"
      ]
     },
     "execution_count": 307,
     "metadata": {},
     "output_type": "execute_result"
    }
   ],
   "source": []
  },
  {
   "cell_type": "markdown",
   "metadata": {},
   "source": [
    "5)"
   ]
  },
  {
   "cell_type": "code",
   "execution_count": null,
   "metadata": {},
   "outputs": [],
   "source": []
  },
  {
   "cell_type": "markdown",
   "metadata": {},
   "source": [
    "6)"
   ]
  },
  {
   "cell_type": "code",
   "execution_count": null,
   "metadata": {},
   "outputs": [],
   "source": []
  },
  {
   "cell_type": "markdown",
   "metadata": {},
   "source": [
    "7)"
   ]
  },
  {
   "cell_type": "code",
   "execution_count": null,
   "metadata": {},
   "outputs": [],
   "source": []
  },
  {
   "cell_type": "markdown",
   "metadata": {},
   "source": [
    "8)"
   ]
  },
  {
   "cell_type": "code",
   "execution_count": null,
   "metadata": {},
   "outputs": [],
   "source": []
  },
  {
   "cell_type": "markdown",
   "metadata": {},
   "source": [
    "9)"
   ]
  },
  {
   "cell_type": "code",
   "execution_count": null,
   "metadata": {},
   "outputs": [],
   "source": []
  },
  {
   "cell_type": "markdown",
   "metadata": {},
   "source": [
    "10)"
   ]
  },
  {
   "cell_type": "code",
   "execution_count": null,
   "metadata": {},
   "outputs": [],
   "source": []
  },
  {
   "cell_type": "markdown",
   "metadata": {},
   "source": [
    "11)"
   ]
  },
  {
   "cell_type": "code",
   "execution_count": null,
   "metadata": {},
   "outputs": [],
   "source": []
  },
  {
   "cell_type": "markdown",
   "metadata": {},
   "source": [
    "12)"
   ]
  },
  {
   "cell_type": "code",
   "execution_count": null,
   "metadata": {},
   "outputs": [],
   "source": []
  },
  {
   "cell_type": "markdown",
   "metadata": {},
   "source": [
    "13)"
   ]
  },
  {
   "cell_type": "code",
   "execution_count": null,
   "metadata": {},
   "outputs": [],
   "source": []
  },
  {
   "cell_type": "markdown",
   "metadata": {},
   "source": [
    "14)"
   ]
  },
  {
   "cell_type": "code",
   "execution_count": null,
   "metadata": {},
   "outputs": [],
   "source": []
  },
  {
   "cell_type": "markdown",
   "metadata": {},
   "source": [
    "15)"
   ]
  },
  {
   "cell_type": "code",
   "execution_count": null,
   "metadata": {},
   "outputs": [],
   "source": []
  },
  {
   "cell_type": "markdown",
   "metadata": {},
   "source": [
    "16)"
   ]
  },
  {
   "cell_type": "code",
   "execution_count": null,
   "metadata": {},
   "outputs": [],
   "source": []
  },
  {
   "cell_type": "markdown",
   "metadata": {},
   "source": [
    "17)"
   ]
  },
  {
   "cell_type": "code",
   "execution_count": null,
   "metadata": {},
   "outputs": [],
   "source": []
  },
  {
   "cell_type": "markdown",
   "metadata": {},
   "source": [
    "18)"
   ]
  },
  {
   "cell_type": "code",
   "execution_count": null,
   "metadata": {},
   "outputs": [],
   "source": []
  },
  {
   "cell_type": "markdown",
   "metadata": {},
   "source": [
    "19)"
   ]
  },
  {
   "cell_type": "code",
   "execution_count": null,
   "metadata": {},
   "outputs": [],
   "source": []
  },
  {
   "cell_type": "markdown",
   "metadata": {},
   "source": [
    "20)"
   ]
  }
 ],
 "metadata": {
  "kernelspec": {
   "display_name": "Python 3",
   "language": "python",
   "name": "python3"
  },
  "language_info": {
   "codemirror_mode": {
    "name": "ipython",
    "version": 3
   },
   "file_extension": ".py",
   "mimetype": "text/x-python",
   "name": "python",
   "nbconvert_exporter": "python",
   "pygments_lexer": "ipython3",
   "version": "3.8.3"
  }
 },
 "nbformat": 4,
 "nbformat_minor": 4
}
